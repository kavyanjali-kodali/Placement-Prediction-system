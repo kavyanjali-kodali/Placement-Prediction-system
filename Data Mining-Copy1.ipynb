{
 "cells": [
  {
   "cell_type": "markdown",
   "id": "5e5e2bdf",
   "metadata": {},
   "source": [
    "# College Placement Prediction System"
   ]
  },
  {
   "cell_type": "code",
   "execution_count": 1,
   "id": "b7b08e2a",
   "metadata": {},
   "outputs": [],
   "source": [
    "import pandas as pd"
   ]
  },
  {
   "cell_type": "code",
   "execution_count": 2,
   "id": "a5ef7310",
   "metadata": {},
   "outputs": [],
   "source": [
    "data1=pd.read_csv('Placement.csv')\n",
    "data =data1"
   ]
  },
  {
   "cell_type": "code",
   "execution_count": 3,
   "id": "002dfd4d",
   "metadata": {},
   "outputs": [],
   "source": [
    "import warnings"
   ]
  },
  {
   "cell_type": "code",
   "execution_count": 4,
   "id": "fa5c6de9",
   "metadata": {},
   "outputs": [],
   "source": [
    "warnings.filterwarnings('ignore')"
   ]
  },
  {
   "cell_type": "markdown",
   "id": "b9767888",
   "metadata": {},
   "source": [
    "## Display Top 10 Rows of The Dataset"
   ]
  },
  {
   "cell_type": "code",
   "execution_count": 5,
   "id": "9769686d",
   "metadata": {
    "scrolled": true
   },
   "outputs": [
    {
     "data": {
      "text/html": [
       "<div>\n",
       "<style scoped>\n",
       "    .dataframe tbody tr th:only-of-type {\n",
       "        vertical-align: middle;\n",
       "    }\n",
       "\n",
       "    .dataframe tbody tr th {\n",
       "        vertical-align: top;\n",
       "    }\n",
       "\n",
       "    .dataframe thead th {\n",
       "        text-align: right;\n",
       "    }\n",
       "</style>\n",
       "<table border=\"1\" class=\"dataframe\">\n",
       "  <thead>\n",
       "    <tr style=\"text-align: right;\">\n",
       "      <th></th>\n",
       "      <th>sl_no</th>\n",
       "      <th>gender</th>\n",
       "      <th>ssc_percent</th>\n",
       "      <th>ssc_board</th>\n",
       "      <th>hsc_percent</th>\n",
       "      <th>hsc_board</th>\n",
       "      <th>hsc_specialization</th>\n",
       "      <th>degree_percent</th>\n",
       "      <th>degree_type</th>\n",
       "      <th>work_experience</th>\n",
       "      <th>employability_test_percent</th>\n",
       "      <th>status</th>\n",
       "      <th>salary</th>\n",
       "    </tr>\n",
       "  </thead>\n",
       "  <tbody>\n",
       "    <tr>\n",
       "      <th>0</th>\n",
       "      <td>1</td>\n",
       "      <td>M</td>\n",
       "      <td>67.00</td>\n",
       "      <td>Others</td>\n",
       "      <td>91.00</td>\n",
       "      <td>Others</td>\n",
       "      <td>Commerce</td>\n",
       "      <td>58.00</td>\n",
       "      <td>Sci&amp;Tech</td>\n",
       "      <td>No</td>\n",
       "      <td>55.00</td>\n",
       "      <td>Placed</td>\n",
       "      <td>270000.0</td>\n",
       "    </tr>\n",
       "    <tr>\n",
       "      <th>1</th>\n",
       "      <td>2</td>\n",
       "      <td>M</td>\n",
       "      <td>79.33</td>\n",
       "      <td>Central</td>\n",
       "      <td>78.33</td>\n",
       "      <td>Others</td>\n",
       "      <td>Science</td>\n",
       "      <td>77.48</td>\n",
       "      <td>Sci&amp;Tech</td>\n",
       "      <td>Yes</td>\n",
       "      <td>86.50</td>\n",
       "      <td>Placed</td>\n",
       "      <td>200000.0</td>\n",
       "    </tr>\n",
       "    <tr>\n",
       "      <th>2</th>\n",
       "      <td>3</td>\n",
       "      <td>M</td>\n",
       "      <td>65.00</td>\n",
       "      <td>Central</td>\n",
       "      <td>68.00</td>\n",
       "      <td>Central</td>\n",
       "      <td>Arts</td>\n",
       "      <td>64.00</td>\n",
       "      <td>Comm&amp;Mgmt</td>\n",
       "      <td>No</td>\n",
       "      <td>75.00</td>\n",
       "      <td>Placed</td>\n",
       "      <td>250000.0</td>\n",
       "    </tr>\n",
       "    <tr>\n",
       "      <th>3</th>\n",
       "      <td>4</td>\n",
       "      <td>M</td>\n",
       "      <td>56.00</td>\n",
       "      <td>Central</td>\n",
       "      <td>52.00</td>\n",
       "      <td>Central</td>\n",
       "      <td>Science</td>\n",
       "      <td>52.00</td>\n",
       "      <td>Sci&amp;Tech</td>\n",
       "      <td>No</td>\n",
       "      <td>66.00</td>\n",
       "      <td>Not Placed</td>\n",
       "      <td>NaN</td>\n",
       "    </tr>\n",
       "    <tr>\n",
       "      <th>4</th>\n",
       "      <td>5</td>\n",
       "      <td>M</td>\n",
       "      <td>85.80</td>\n",
       "      <td>Central</td>\n",
       "      <td>73.60</td>\n",
       "      <td>Central</td>\n",
       "      <td>Commerce</td>\n",
       "      <td>73.30</td>\n",
       "      <td>Comm&amp;Mgmt</td>\n",
       "      <td>No</td>\n",
       "      <td>96.80</td>\n",
       "      <td>Placed</td>\n",
       "      <td>425000.0</td>\n",
       "    </tr>\n",
       "    <tr>\n",
       "      <th>5</th>\n",
       "      <td>6</td>\n",
       "      <td>M</td>\n",
       "      <td>55.00</td>\n",
       "      <td>Others</td>\n",
       "      <td>49.80</td>\n",
       "      <td>Others</td>\n",
       "      <td>Science</td>\n",
       "      <td>67.25</td>\n",
       "      <td>Sci&amp;Tech</td>\n",
       "      <td>Yes</td>\n",
       "      <td>55.00</td>\n",
       "      <td>Not Placed</td>\n",
       "      <td>NaN</td>\n",
       "    </tr>\n",
       "    <tr>\n",
       "      <th>6</th>\n",
       "      <td>7</td>\n",
       "      <td>F</td>\n",
       "      <td>46.00</td>\n",
       "      <td>Others</td>\n",
       "      <td>49.20</td>\n",
       "      <td>Others</td>\n",
       "      <td>Commerce</td>\n",
       "      <td>79.00</td>\n",
       "      <td>Comm&amp;Mgmt</td>\n",
       "      <td>No</td>\n",
       "      <td>74.28</td>\n",
       "      <td>Not Placed</td>\n",
       "      <td>NaN</td>\n",
       "    </tr>\n",
       "    <tr>\n",
       "      <th>7</th>\n",
       "      <td>8</td>\n",
       "      <td>M</td>\n",
       "      <td>82.00</td>\n",
       "      <td>Central</td>\n",
       "      <td>64.00</td>\n",
       "      <td>Central</td>\n",
       "      <td>Science</td>\n",
       "      <td>66.00</td>\n",
       "      <td>Sci&amp;Tech</td>\n",
       "      <td>Yes</td>\n",
       "      <td>67.00</td>\n",
       "      <td>Placed</td>\n",
       "      <td>252000.0</td>\n",
       "    </tr>\n",
       "    <tr>\n",
       "      <th>8</th>\n",
       "      <td>9</td>\n",
       "      <td>M</td>\n",
       "      <td>73.00</td>\n",
       "      <td>Central</td>\n",
       "      <td>79.00</td>\n",
       "      <td>Central</td>\n",
       "      <td>Commerce</td>\n",
       "      <td>72.00</td>\n",
       "      <td>Comm&amp;Mgmt</td>\n",
       "      <td>No</td>\n",
       "      <td>91.34</td>\n",
       "      <td>Placed</td>\n",
       "      <td>231000.0</td>\n",
       "    </tr>\n",
       "    <tr>\n",
       "      <th>9</th>\n",
       "      <td>10</td>\n",
       "      <td>M</td>\n",
       "      <td>58.00</td>\n",
       "      <td>Central</td>\n",
       "      <td>70.00</td>\n",
       "      <td>Central</td>\n",
       "      <td>Commerce</td>\n",
       "      <td>61.00</td>\n",
       "      <td>Comm&amp;Mgmt</td>\n",
       "      <td>No</td>\n",
       "      <td>54.00</td>\n",
       "      <td>Not Placed</td>\n",
       "      <td>NaN</td>\n",
       "    </tr>\n",
       "  </tbody>\n",
       "</table>\n",
       "</div>"
      ],
      "text/plain": [
       "   sl_no gender  ssc_percent ssc_board  hsc_percent hsc_board  \\\n",
       "0      1      M        67.00    Others        91.00    Others   \n",
       "1      2      M        79.33   Central        78.33    Others   \n",
       "2      3      M        65.00   Central        68.00   Central   \n",
       "3      4      M        56.00   Central        52.00   Central   \n",
       "4      5      M        85.80   Central        73.60   Central   \n",
       "5      6      M        55.00    Others        49.80    Others   \n",
       "6      7      F        46.00    Others        49.20    Others   \n",
       "7      8      M        82.00   Central        64.00   Central   \n",
       "8      9      M        73.00   Central        79.00   Central   \n",
       "9     10      M        58.00   Central        70.00   Central   \n",
       "\n",
       "  hsc_specialization  degree_percent degree_type work_experience  \\\n",
       "0           Commerce           58.00    Sci&Tech              No   \n",
       "1            Science           77.48    Sci&Tech             Yes   \n",
       "2               Arts           64.00   Comm&Mgmt              No   \n",
       "3            Science           52.00    Sci&Tech              No   \n",
       "4           Commerce           73.30   Comm&Mgmt              No   \n",
       "5            Science           67.25    Sci&Tech             Yes   \n",
       "6           Commerce           79.00   Comm&Mgmt              No   \n",
       "7            Science           66.00    Sci&Tech             Yes   \n",
       "8           Commerce           72.00   Comm&Mgmt              No   \n",
       "9           Commerce           61.00   Comm&Mgmt              No   \n",
       "\n",
       "   employability_test_percent      status    salary  \n",
       "0                       55.00      Placed  270000.0  \n",
       "1                       86.50      Placed  200000.0  \n",
       "2                       75.00      Placed  250000.0  \n",
       "3                       66.00  Not Placed       NaN  \n",
       "4                       96.80      Placed  425000.0  \n",
       "5                       55.00  Not Placed       NaN  \n",
       "6                       74.28  Not Placed       NaN  \n",
       "7                       67.00      Placed  252000.0  \n",
       "8                       91.34      Placed  231000.0  \n",
       "9                       54.00  Not Placed       NaN  "
      ]
     },
     "execution_count": 5,
     "metadata": {},
     "output_type": "execute_result"
    }
   ],
   "source": [
    "data.head(10)"
   ]
  },
  {
   "cell_type": "markdown",
   "id": "fa4f85c7",
   "metadata": {},
   "source": [
    "## Display last 10 rows of Dataset"
   ]
  },
  {
   "cell_type": "code",
   "execution_count": 6,
   "id": "c140a56b",
   "metadata": {},
   "outputs": [
    {
     "data": {
      "text/html": [
       "<div>\n",
       "<style scoped>\n",
       "    .dataframe tbody tr th:only-of-type {\n",
       "        vertical-align: middle;\n",
       "    }\n",
       "\n",
       "    .dataframe tbody tr th {\n",
       "        vertical-align: top;\n",
       "    }\n",
       "\n",
       "    .dataframe thead th {\n",
       "        text-align: right;\n",
       "    }\n",
       "</style>\n",
       "<table border=\"1\" class=\"dataframe\">\n",
       "  <thead>\n",
       "    <tr style=\"text-align: right;\">\n",
       "      <th></th>\n",
       "      <th>sl_no</th>\n",
       "      <th>gender</th>\n",
       "      <th>ssc_percent</th>\n",
       "      <th>ssc_board</th>\n",
       "      <th>hsc_percent</th>\n",
       "      <th>hsc_board</th>\n",
       "      <th>hsc_specialization</th>\n",
       "      <th>degree_percent</th>\n",
       "      <th>degree_type</th>\n",
       "      <th>work_experience</th>\n",
       "      <th>employability_test_percent</th>\n",
       "      <th>status</th>\n",
       "      <th>salary</th>\n",
       "    </tr>\n",
       "  </thead>\n",
       "  <tbody>\n",
       "    <tr>\n",
       "      <th>205</th>\n",
       "      <td>206</td>\n",
       "      <td>M</td>\n",
       "      <td>61.00</td>\n",
       "      <td>Others</td>\n",
       "      <td>62.0</td>\n",
       "      <td>Others</td>\n",
       "      <td>Commerce</td>\n",
       "      <td>65.0</td>\n",
       "      <td>Comm&amp;Mgmt</td>\n",
       "      <td>No</td>\n",
       "      <td>62.00</td>\n",
       "      <td>Placed</td>\n",
       "      <td>250000.0</td>\n",
       "    </tr>\n",
       "    <tr>\n",
       "      <th>206</th>\n",
       "      <td>207</td>\n",
       "      <td>M</td>\n",
       "      <td>41.00</td>\n",
       "      <td>Central</td>\n",
       "      <td>42.0</td>\n",
       "      <td>Central</td>\n",
       "      <td>Science</td>\n",
       "      <td>60.0</td>\n",
       "      <td>Comm&amp;Mgmt</td>\n",
       "      <td>No</td>\n",
       "      <td>97.00</td>\n",
       "      <td>Not Placed</td>\n",
       "      <td>NaN</td>\n",
       "    </tr>\n",
       "    <tr>\n",
       "      <th>207</th>\n",
       "      <td>208</td>\n",
       "      <td>M</td>\n",
       "      <td>83.33</td>\n",
       "      <td>Central</td>\n",
       "      <td>78.0</td>\n",
       "      <td>Others</td>\n",
       "      <td>Commerce</td>\n",
       "      <td>61.0</td>\n",
       "      <td>Comm&amp;Mgmt</td>\n",
       "      <td>Yes</td>\n",
       "      <td>88.56</td>\n",
       "      <td>Placed</td>\n",
       "      <td>300000.0</td>\n",
       "    </tr>\n",
       "    <tr>\n",
       "      <th>208</th>\n",
       "      <td>209</td>\n",
       "      <td>F</td>\n",
       "      <td>43.00</td>\n",
       "      <td>Central</td>\n",
       "      <td>60.0</td>\n",
       "      <td>Others</td>\n",
       "      <td>Science</td>\n",
       "      <td>65.0</td>\n",
       "      <td>Comm&amp;Mgmt</td>\n",
       "      <td>No</td>\n",
       "      <td>92.66</td>\n",
       "      <td>Not Placed</td>\n",
       "      <td>NaN</td>\n",
       "    </tr>\n",
       "    <tr>\n",
       "      <th>209</th>\n",
       "      <td>210</td>\n",
       "      <td>M</td>\n",
       "      <td>62.00</td>\n",
       "      <td>Central</td>\n",
       "      <td>72.0</td>\n",
       "      <td>Central</td>\n",
       "      <td>Commerce</td>\n",
       "      <td>65.0</td>\n",
       "      <td>Comm&amp;Mgmt</td>\n",
       "      <td>No</td>\n",
       "      <td>67.00</td>\n",
       "      <td>Placed</td>\n",
       "      <td>216000.0</td>\n",
       "    </tr>\n",
       "    <tr>\n",
       "      <th>210</th>\n",
       "      <td>211</td>\n",
       "      <td>M</td>\n",
       "      <td>80.60</td>\n",
       "      <td>Others</td>\n",
       "      <td>82.0</td>\n",
       "      <td>Others</td>\n",
       "      <td>Commerce</td>\n",
       "      <td>77.6</td>\n",
       "      <td>Comm&amp;Mgmt</td>\n",
       "      <td>No</td>\n",
       "      <td>91.00</td>\n",
       "      <td>Placed</td>\n",
       "      <td>400000.0</td>\n",
       "    </tr>\n",
       "    <tr>\n",
       "      <th>211</th>\n",
       "      <td>212</td>\n",
       "      <td>M</td>\n",
       "      <td>58.00</td>\n",
       "      <td>Others</td>\n",
       "      <td>60.0</td>\n",
       "      <td>Others</td>\n",
       "      <td>Science</td>\n",
       "      <td>72.0</td>\n",
       "      <td>Sci&amp;Tech</td>\n",
       "      <td>No</td>\n",
       "      <td>74.00</td>\n",
       "      <td>Placed</td>\n",
       "      <td>275000.0</td>\n",
       "    </tr>\n",
       "    <tr>\n",
       "      <th>212</th>\n",
       "      <td>213</td>\n",
       "      <td>M</td>\n",
       "      <td>67.00</td>\n",
       "      <td>Others</td>\n",
       "      <td>67.0</td>\n",
       "      <td>Others</td>\n",
       "      <td>Commerce</td>\n",
       "      <td>73.0</td>\n",
       "      <td>Comm&amp;Mgmt</td>\n",
       "      <td>Yes</td>\n",
       "      <td>59.00</td>\n",
       "      <td>Placed</td>\n",
       "      <td>295000.0</td>\n",
       "    </tr>\n",
       "    <tr>\n",
       "      <th>213</th>\n",
       "      <td>214</td>\n",
       "      <td>F</td>\n",
       "      <td>74.00</td>\n",
       "      <td>Others</td>\n",
       "      <td>66.0</td>\n",
       "      <td>Others</td>\n",
       "      <td>Commerce</td>\n",
       "      <td>58.0</td>\n",
       "      <td>Comm&amp;Mgmt</td>\n",
       "      <td>No</td>\n",
       "      <td>70.00</td>\n",
       "      <td>Placed</td>\n",
       "      <td>204000.0</td>\n",
       "    </tr>\n",
       "    <tr>\n",
       "      <th>214</th>\n",
       "      <td>215</td>\n",
       "      <td>M</td>\n",
       "      <td>62.00</td>\n",
       "      <td>Central</td>\n",
       "      <td>58.0</td>\n",
       "      <td>Others</td>\n",
       "      <td>Science</td>\n",
       "      <td>53.0</td>\n",
       "      <td>Comm&amp;Mgmt</td>\n",
       "      <td>No</td>\n",
       "      <td>89.00</td>\n",
       "      <td>Not Placed</td>\n",
       "      <td>NaN</td>\n",
       "    </tr>\n",
       "  </tbody>\n",
       "</table>\n",
       "</div>"
      ],
      "text/plain": [
       "     sl_no gender  ssc_percent ssc_board  hsc_percent hsc_board  \\\n",
       "205    206      M        61.00    Others         62.0    Others   \n",
       "206    207      M        41.00   Central         42.0   Central   \n",
       "207    208      M        83.33   Central         78.0    Others   \n",
       "208    209      F        43.00   Central         60.0    Others   \n",
       "209    210      M        62.00   Central         72.0   Central   \n",
       "210    211      M        80.60    Others         82.0    Others   \n",
       "211    212      M        58.00    Others         60.0    Others   \n",
       "212    213      M        67.00    Others         67.0    Others   \n",
       "213    214      F        74.00    Others         66.0    Others   \n",
       "214    215      M        62.00   Central         58.0    Others   \n",
       "\n",
       "    hsc_specialization  degree_percent degree_type work_experience  \\\n",
       "205           Commerce            65.0   Comm&Mgmt              No   \n",
       "206            Science            60.0   Comm&Mgmt              No   \n",
       "207           Commerce            61.0   Comm&Mgmt             Yes   \n",
       "208            Science            65.0   Comm&Mgmt              No   \n",
       "209           Commerce            65.0   Comm&Mgmt              No   \n",
       "210           Commerce            77.6   Comm&Mgmt              No   \n",
       "211            Science            72.0    Sci&Tech              No   \n",
       "212           Commerce            73.0   Comm&Mgmt             Yes   \n",
       "213           Commerce            58.0   Comm&Mgmt              No   \n",
       "214            Science            53.0   Comm&Mgmt              No   \n",
       "\n",
       "     employability_test_percent      status    salary  \n",
       "205                       62.00      Placed  250000.0  \n",
       "206                       97.00  Not Placed       NaN  \n",
       "207                       88.56      Placed  300000.0  \n",
       "208                       92.66  Not Placed       NaN  \n",
       "209                       67.00      Placed  216000.0  \n",
       "210                       91.00      Placed  400000.0  \n",
       "211                       74.00      Placed  275000.0  \n",
       "212                       59.00      Placed  295000.0  \n",
       "213                       70.00      Placed  204000.0  \n",
       "214                       89.00  Not Placed       NaN  "
      ]
     },
     "execution_count": 6,
     "metadata": {},
     "output_type": "execute_result"
    }
   ],
   "source": [
    "data.tail(10)"
   ]
  },
  {
   "cell_type": "markdown",
   "id": "5ec6dcfa",
   "metadata": {},
   "source": [
    "## Shape of Dataset"
   ]
  },
  {
   "cell_type": "code",
   "execution_count": 7,
   "id": "cc396ac4",
   "metadata": {},
   "outputs": [
    {
     "data": {
      "text/plain": [
       "(215, 13)"
      ]
     },
     "execution_count": 7,
     "metadata": {},
     "output_type": "execute_result"
    }
   ],
   "source": [
    "a=data.shape\n",
    "a"
   ]
  },
  {
   "cell_type": "code",
   "execution_count": 8,
   "id": "5a847587",
   "metadata": {},
   "outputs": [
    {
     "name": "stdout",
     "output_type": "stream",
     "text": [
      "No. of rows :  215\n",
      "No. of columns :  13\n"
     ]
    }
   ],
   "source": [
    "print(\"No. of rows : \",a[0])\n",
    "print(\"No. of columns : \",a[1])"
   ]
  },
  {
   "cell_type": "markdown",
   "id": "ba50212d",
   "metadata": {},
   "source": [
    "## Get Information About Dataset Like the Total Number of Rows, Total Number of Columns, Datatypes of Each Column And Memory Requirement"
   ]
  },
  {
   "cell_type": "code",
   "execution_count": 9,
   "id": "dceda10d",
   "metadata": {},
   "outputs": [
    {
     "name": "stdout",
     "output_type": "stream",
     "text": [
      "<class 'pandas.core.frame.DataFrame'>\n",
      "RangeIndex: 215 entries, 0 to 214\n",
      "Data columns (total 13 columns):\n",
      " #   Column                      Non-Null Count  Dtype  \n",
      "---  ------                      --------------  -----  \n",
      " 0   sl_no                       215 non-null    int64  \n",
      " 1   gender                      215 non-null    object \n",
      " 2   ssc_percent                 215 non-null    float64\n",
      " 3   ssc_board                   215 non-null    object \n",
      " 4   hsc_percent                 215 non-null    float64\n",
      " 5   hsc_board                   215 non-null    object \n",
      " 6   hsc_specialization          215 non-null    object \n",
      " 7   degree_percent              215 non-null    float64\n",
      " 8   degree_type                 215 non-null    object \n",
      " 9   work_experience             215 non-null    object \n",
      " 10  employability_test_percent  215 non-null    float64\n",
      " 11  status                      215 non-null    object \n",
      " 12  salary                      148 non-null    float64\n",
      "dtypes: float64(5), int64(1), object(7)\n",
      "memory usage: 22.0+ KB\n"
     ]
    }
   ],
   "source": [
    "data.info()"
   ]
  },
  {
   "cell_type": "markdown",
   "id": "139e124e",
   "metadata": {},
   "source": [
    "### Checking Null Values"
   ]
  },
  {
   "cell_type": "code",
   "execution_count": 10,
   "id": "208855de",
   "metadata": {},
   "outputs": [
    {
     "data": {
      "text/plain": [
       "sl_no                          0\n",
       "gender                         0\n",
       "ssc_percent                    0\n",
       "ssc_board                      0\n",
       "hsc_percent                    0\n",
       "hsc_board                      0\n",
       "hsc_specialization             0\n",
       "degree_percent                 0\n",
       "degree_type                    0\n",
       "work_experience                0\n",
       "employability_test_percent     0\n",
       "status                         0\n",
       "salary                        67\n",
       "dtype: int64"
      ]
     },
     "execution_count": 10,
     "metadata": {},
     "output_type": "execute_result"
    }
   ],
   "source": [
    "data.isnull().sum()"
   ]
  },
  {
   "cell_type": "markdown",
   "id": "c38a3173",
   "metadata": {},
   "source": [
    "### Statistics about Dataset"
   ]
  },
  {
   "cell_type": "code",
   "execution_count": 11,
   "id": "ddbd0bf7",
   "metadata": {},
   "outputs": [
    {
     "data": {
      "text/html": [
       "<div>\n",
       "<style scoped>\n",
       "    .dataframe tbody tr th:only-of-type {\n",
       "        vertical-align: middle;\n",
       "    }\n",
       "\n",
       "    .dataframe tbody tr th {\n",
       "        vertical-align: top;\n",
       "    }\n",
       "\n",
       "    .dataframe thead th {\n",
       "        text-align: right;\n",
       "    }\n",
       "</style>\n",
       "<table border=\"1\" class=\"dataframe\">\n",
       "  <thead>\n",
       "    <tr style=\"text-align: right;\">\n",
       "      <th></th>\n",
       "      <th>sl_no</th>\n",
       "      <th>ssc_percent</th>\n",
       "      <th>hsc_percent</th>\n",
       "      <th>degree_percent</th>\n",
       "      <th>employability_test_percent</th>\n",
       "      <th>salary</th>\n",
       "    </tr>\n",
       "  </thead>\n",
       "  <tbody>\n",
       "    <tr>\n",
       "      <th>count</th>\n",
       "      <td>215.000000</td>\n",
       "      <td>215.000000</td>\n",
       "      <td>215.000000</td>\n",
       "      <td>215.000000</td>\n",
       "      <td>215.000000</td>\n",
       "      <td>148.000000</td>\n",
       "    </tr>\n",
       "    <tr>\n",
       "      <th>mean</th>\n",
       "      <td>108.000000</td>\n",
       "      <td>67.303395</td>\n",
       "      <td>66.333163</td>\n",
       "      <td>66.370186</td>\n",
       "      <td>72.100558</td>\n",
       "      <td>288655.405405</td>\n",
       "    </tr>\n",
       "    <tr>\n",
       "      <th>std</th>\n",
       "      <td>62.209324</td>\n",
       "      <td>10.827205</td>\n",
       "      <td>10.897509</td>\n",
       "      <td>7.358743</td>\n",
       "      <td>13.275956</td>\n",
       "      <td>93457.452420</td>\n",
       "    </tr>\n",
       "    <tr>\n",
       "      <th>min</th>\n",
       "      <td>1.000000</td>\n",
       "      <td>40.890000</td>\n",
       "      <td>37.000000</td>\n",
       "      <td>50.000000</td>\n",
       "      <td>50.000000</td>\n",
       "      <td>200000.000000</td>\n",
       "    </tr>\n",
       "    <tr>\n",
       "      <th>25%</th>\n",
       "      <td>54.500000</td>\n",
       "      <td>60.600000</td>\n",
       "      <td>60.900000</td>\n",
       "      <td>61.000000</td>\n",
       "      <td>60.000000</td>\n",
       "      <td>240000.000000</td>\n",
       "    </tr>\n",
       "    <tr>\n",
       "      <th>50%</th>\n",
       "      <td>108.000000</td>\n",
       "      <td>67.000000</td>\n",
       "      <td>65.000000</td>\n",
       "      <td>66.000000</td>\n",
       "      <td>71.000000</td>\n",
       "      <td>265000.000000</td>\n",
       "    </tr>\n",
       "    <tr>\n",
       "      <th>75%</th>\n",
       "      <td>161.500000</td>\n",
       "      <td>75.700000</td>\n",
       "      <td>73.000000</td>\n",
       "      <td>72.000000</td>\n",
       "      <td>83.500000</td>\n",
       "      <td>300000.000000</td>\n",
       "    </tr>\n",
       "    <tr>\n",
       "      <th>max</th>\n",
       "      <td>215.000000</td>\n",
       "      <td>89.400000</td>\n",
       "      <td>97.700000</td>\n",
       "      <td>91.000000</td>\n",
       "      <td>98.000000</td>\n",
       "      <td>940000.000000</td>\n",
       "    </tr>\n",
       "  </tbody>\n",
       "</table>\n",
       "</div>"
      ],
      "text/plain": [
       "            sl_no  ssc_percent  hsc_percent  degree_percent  \\\n",
       "count  215.000000   215.000000   215.000000      215.000000   \n",
       "mean   108.000000    67.303395    66.333163       66.370186   \n",
       "std     62.209324    10.827205    10.897509        7.358743   \n",
       "min      1.000000    40.890000    37.000000       50.000000   \n",
       "25%     54.500000    60.600000    60.900000       61.000000   \n",
       "50%    108.000000    67.000000    65.000000       66.000000   \n",
       "75%    161.500000    75.700000    73.000000       72.000000   \n",
       "max    215.000000    89.400000    97.700000       91.000000   \n",
       "\n",
       "       employability_test_percent         salary  \n",
       "count                  215.000000     148.000000  \n",
       "mean                    72.100558  288655.405405  \n",
       "std                     13.275956   93457.452420  \n",
       "min                     50.000000  200000.000000  \n",
       "25%                     60.000000  240000.000000  \n",
       "50%                     71.000000  265000.000000  \n",
       "75%                     83.500000  300000.000000  \n",
       "max                     98.000000  940000.000000  "
      ]
     },
     "execution_count": 11,
     "metadata": {},
     "output_type": "execute_result"
    }
   ],
   "source": [
    "data.describe()"
   ]
  },
  {
   "cell_type": "markdown",
   "id": "1ec974f3",
   "metadata": {},
   "source": [
    "### EDA"
   ]
  },
  {
   "cell_type": "code",
   "execution_count": 12,
   "id": "b6bec622",
   "metadata": {},
   "outputs": [
    {
     "data": {
      "text/plain": [
       "Index(['sl_no', 'gender', 'ssc_percent', 'ssc_board', 'hsc_percent',\n",
       "       'hsc_board', 'hsc_specialization', 'degree_percent', 'degree_type',\n",
       "       'work_experience', 'employability_test_percent', 'status', 'salary'],\n",
       "      dtype='object')"
      ]
     },
     "execution_count": 12,
     "metadata": {},
     "output_type": "execute_result"
    }
   ],
   "source": [
    "data.columns"
   ]
  },
  {
   "cell_type": "markdown",
   "id": "0991ccfc",
   "metadata": {},
   "source": [
    "#### How many Students got placed"
   ]
  },
  {
   "cell_type": "code",
   "execution_count": 13,
   "id": "aa98ad3e",
   "metadata": {},
   "outputs": [
    {
     "data": {
      "text/plain": [
       "array(['Placed', 'Not Placed'], dtype=object)"
      ]
     },
     "execution_count": 13,
     "metadata": {},
     "output_type": "execute_result"
    }
   ],
   "source": [
    "data['status'].unique()"
   ]
  },
  {
   "cell_type": "code",
   "execution_count": 14,
   "id": "f74a54c4",
   "metadata": {},
   "outputs": [
    {
     "data": {
      "text/plain": [
       "status\n",
       "Placed        148\n",
       "Not Placed     67\n",
       "Name: count, dtype: int64"
      ]
     },
     "execution_count": 14,
     "metadata": {},
     "output_type": "execute_result"
    }
   ],
   "source": [
    "data['status'].value_counts()"
   ]
  },
  {
   "cell_type": "markdown",
   "id": "f35af2cc",
   "metadata": {},
   "source": [
    "## Data Preprocessing"
   ]
  },
  {
   "cell_type": "code",
   "execution_count": 15,
   "id": "ac9296ac",
   "metadata": {},
   "outputs": [
    {
     "data": {
      "text/html": [
       "<div>\n",
       "<style scoped>\n",
       "    .dataframe tbody tr th:only-of-type {\n",
       "        vertical-align: middle;\n",
       "    }\n",
       "\n",
       "    .dataframe tbody tr th {\n",
       "        vertical-align: top;\n",
       "    }\n",
       "\n",
       "    .dataframe thead th {\n",
       "        text-align: right;\n",
       "    }\n",
       "</style>\n",
       "<table border=\"1\" class=\"dataframe\">\n",
       "  <thead>\n",
       "    <tr style=\"text-align: right;\">\n",
       "      <th></th>\n",
       "      <th>sl_no</th>\n",
       "      <th>gender</th>\n",
       "      <th>ssc_percent</th>\n",
       "      <th>ssc_board</th>\n",
       "      <th>hsc_percent</th>\n",
       "      <th>hsc_board</th>\n",
       "      <th>hsc_specialization</th>\n",
       "      <th>degree_percent</th>\n",
       "      <th>degree_type</th>\n",
       "      <th>work_experience</th>\n",
       "      <th>employability_test_percent</th>\n",
       "      <th>status</th>\n",
       "      <th>salary</th>\n",
       "    </tr>\n",
       "  </thead>\n",
       "  <tbody>\n",
       "    <tr>\n",
       "      <th>0</th>\n",
       "      <td>1</td>\n",
       "      <td>M</td>\n",
       "      <td>67.00</td>\n",
       "      <td>Others</td>\n",
       "      <td>91.00</td>\n",
       "      <td>Others</td>\n",
       "      <td>Commerce</td>\n",
       "      <td>58.00</td>\n",
       "      <td>Sci&amp;Tech</td>\n",
       "      <td>No</td>\n",
       "      <td>55.0</td>\n",
       "      <td>Placed</td>\n",
       "      <td>270000.0</td>\n",
       "    </tr>\n",
       "    <tr>\n",
       "      <th>1</th>\n",
       "      <td>2</td>\n",
       "      <td>M</td>\n",
       "      <td>79.33</td>\n",
       "      <td>Central</td>\n",
       "      <td>78.33</td>\n",
       "      <td>Others</td>\n",
       "      <td>Science</td>\n",
       "      <td>77.48</td>\n",
       "      <td>Sci&amp;Tech</td>\n",
       "      <td>Yes</td>\n",
       "      <td>86.5</td>\n",
       "      <td>Placed</td>\n",
       "      <td>200000.0</td>\n",
       "    </tr>\n",
       "    <tr>\n",
       "      <th>2</th>\n",
       "      <td>3</td>\n",
       "      <td>M</td>\n",
       "      <td>65.00</td>\n",
       "      <td>Central</td>\n",
       "      <td>68.00</td>\n",
       "      <td>Central</td>\n",
       "      <td>Arts</td>\n",
       "      <td>64.00</td>\n",
       "      <td>Comm&amp;Mgmt</td>\n",
       "      <td>No</td>\n",
       "      <td>75.0</td>\n",
       "      <td>Placed</td>\n",
       "      <td>250000.0</td>\n",
       "    </tr>\n",
       "    <tr>\n",
       "      <th>3</th>\n",
       "      <td>4</td>\n",
       "      <td>M</td>\n",
       "      <td>56.00</td>\n",
       "      <td>Central</td>\n",
       "      <td>52.00</td>\n",
       "      <td>Central</td>\n",
       "      <td>Science</td>\n",
       "      <td>52.00</td>\n",
       "      <td>Sci&amp;Tech</td>\n",
       "      <td>No</td>\n",
       "      <td>66.0</td>\n",
       "      <td>Not Placed</td>\n",
       "      <td>NaN</td>\n",
       "    </tr>\n",
       "    <tr>\n",
       "      <th>4</th>\n",
       "      <td>5</td>\n",
       "      <td>M</td>\n",
       "      <td>85.80</td>\n",
       "      <td>Central</td>\n",
       "      <td>73.60</td>\n",
       "      <td>Central</td>\n",
       "      <td>Commerce</td>\n",
       "      <td>73.30</td>\n",
       "      <td>Comm&amp;Mgmt</td>\n",
       "      <td>No</td>\n",
       "      <td>96.8</td>\n",
       "      <td>Placed</td>\n",
       "      <td>425000.0</td>\n",
       "    </tr>\n",
       "  </tbody>\n",
       "</table>\n",
       "</div>"
      ],
      "text/plain": [
       "   sl_no gender  ssc_percent ssc_board  hsc_percent hsc_board  \\\n",
       "0      1      M        67.00    Others        91.00    Others   \n",
       "1      2      M        79.33   Central        78.33    Others   \n",
       "2      3      M        65.00   Central        68.00   Central   \n",
       "3      4      M        56.00   Central        52.00   Central   \n",
       "4      5      M        85.80   Central        73.60   Central   \n",
       "\n",
       "  hsc_specialization  degree_percent degree_type work_experience  \\\n",
       "0           Commerce           58.00    Sci&Tech              No   \n",
       "1            Science           77.48    Sci&Tech             Yes   \n",
       "2               Arts           64.00   Comm&Mgmt              No   \n",
       "3            Science           52.00    Sci&Tech              No   \n",
       "4           Commerce           73.30   Comm&Mgmt              No   \n",
       "\n",
       "   employability_test_percent      status    salary  \n",
       "0                        55.0      Placed  270000.0  \n",
       "1                        86.5      Placed  200000.0  \n",
       "2                        75.0      Placed  250000.0  \n",
       "3                        66.0  Not Placed       NaN  \n",
       "4                        96.8      Placed  425000.0  "
      ]
     },
     "execution_count": 15,
     "metadata": {},
     "output_type": "execute_result"
    }
   ],
   "source": [
    "data.head()"
   ]
  },
  {
   "cell_type": "code",
   "execution_count": 16,
   "id": "c9fa70ec",
   "metadata": {},
   "outputs": [],
   "source": [
    "data=data.drop(['sl_no','salary'],axis=1)"
   ]
  },
  {
   "cell_type": "code",
   "execution_count": 17,
   "id": "722eb589",
   "metadata": {},
   "outputs": [
    {
     "data": {
      "text/html": [
       "<div>\n",
       "<style scoped>\n",
       "    .dataframe tbody tr th:only-of-type {\n",
       "        vertical-align: middle;\n",
       "    }\n",
       "\n",
       "    .dataframe tbody tr th {\n",
       "        vertical-align: top;\n",
       "    }\n",
       "\n",
       "    .dataframe thead th {\n",
       "        text-align: right;\n",
       "    }\n",
       "</style>\n",
       "<table border=\"1\" class=\"dataframe\">\n",
       "  <thead>\n",
       "    <tr style=\"text-align: right;\">\n",
       "      <th></th>\n",
       "      <th>gender</th>\n",
       "      <th>ssc_percent</th>\n",
       "      <th>ssc_board</th>\n",
       "      <th>hsc_percent</th>\n",
       "      <th>hsc_board</th>\n",
       "      <th>hsc_specialization</th>\n",
       "      <th>degree_percent</th>\n",
       "      <th>degree_type</th>\n",
       "      <th>work_experience</th>\n",
       "      <th>employability_test_percent</th>\n",
       "      <th>status</th>\n",
       "    </tr>\n",
       "  </thead>\n",
       "  <tbody>\n",
       "    <tr>\n",
       "      <th>0</th>\n",
       "      <td>M</td>\n",
       "      <td>67.00</td>\n",
       "      <td>Others</td>\n",
       "      <td>91.00</td>\n",
       "      <td>Others</td>\n",
       "      <td>Commerce</td>\n",
       "      <td>58.00</td>\n",
       "      <td>Sci&amp;Tech</td>\n",
       "      <td>No</td>\n",
       "      <td>55.0</td>\n",
       "      <td>Placed</td>\n",
       "    </tr>\n",
       "    <tr>\n",
       "      <th>1</th>\n",
       "      <td>M</td>\n",
       "      <td>79.33</td>\n",
       "      <td>Central</td>\n",
       "      <td>78.33</td>\n",
       "      <td>Others</td>\n",
       "      <td>Science</td>\n",
       "      <td>77.48</td>\n",
       "      <td>Sci&amp;Tech</td>\n",
       "      <td>Yes</td>\n",
       "      <td>86.5</td>\n",
       "      <td>Placed</td>\n",
       "    </tr>\n",
       "    <tr>\n",
       "      <th>2</th>\n",
       "      <td>M</td>\n",
       "      <td>65.00</td>\n",
       "      <td>Central</td>\n",
       "      <td>68.00</td>\n",
       "      <td>Central</td>\n",
       "      <td>Arts</td>\n",
       "      <td>64.00</td>\n",
       "      <td>Comm&amp;Mgmt</td>\n",
       "      <td>No</td>\n",
       "      <td>75.0</td>\n",
       "      <td>Placed</td>\n",
       "    </tr>\n",
       "    <tr>\n",
       "      <th>3</th>\n",
       "      <td>M</td>\n",
       "      <td>56.00</td>\n",
       "      <td>Central</td>\n",
       "      <td>52.00</td>\n",
       "      <td>Central</td>\n",
       "      <td>Science</td>\n",
       "      <td>52.00</td>\n",
       "      <td>Sci&amp;Tech</td>\n",
       "      <td>No</td>\n",
       "      <td>66.0</td>\n",
       "      <td>Not Placed</td>\n",
       "    </tr>\n",
       "    <tr>\n",
       "      <th>4</th>\n",
       "      <td>M</td>\n",
       "      <td>85.80</td>\n",
       "      <td>Central</td>\n",
       "      <td>73.60</td>\n",
       "      <td>Central</td>\n",
       "      <td>Commerce</td>\n",
       "      <td>73.30</td>\n",
       "      <td>Comm&amp;Mgmt</td>\n",
       "      <td>No</td>\n",
       "      <td>96.8</td>\n",
       "      <td>Placed</td>\n",
       "    </tr>\n",
       "  </tbody>\n",
       "</table>\n",
       "</div>"
      ],
      "text/plain": [
       "  gender  ssc_percent ssc_board  hsc_percent hsc_board hsc_specialization  \\\n",
       "0      M        67.00    Others        91.00    Others           Commerce   \n",
       "1      M        79.33   Central        78.33    Others            Science   \n",
       "2      M        65.00   Central        68.00   Central               Arts   \n",
       "3      M        56.00   Central        52.00   Central            Science   \n",
       "4      M        85.80   Central        73.60   Central           Commerce   \n",
       "\n",
       "   degree_percent degree_type work_experience  employability_test_percent  \\\n",
       "0           58.00    Sci&Tech              No                        55.0   \n",
       "1           77.48    Sci&Tech             Yes                        86.5   \n",
       "2           64.00   Comm&Mgmt              No                        75.0   \n",
       "3           52.00    Sci&Tech              No                        66.0   \n",
       "4           73.30   Comm&Mgmt              No                        96.8   \n",
       "\n",
       "       status  \n",
       "0      Placed  \n",
       "1      Placed  \n",
       "2      Placed  \n",
       "3  Not Placed  \n",
       "4      Placed  "
      ]
     },
     "execution_count": 17,
     "metadata": {},
     "output_type": "execute_result"
    }
   ],
   "source": [
    "data.head(5)"
   ]
  },
  {
   "cell_type": "markdown",
   "id": "725bc7c9",
   "metadata": {},
   "source": [
    "### Encoding Categorical Columns"
   ]
  },
  {
   "cell_type": "markdown",
   "id": "6c4dee32",
   "metadata": {},
   "source": [
    "#### 1.Gender"
   ]
  },
  {
   "cell_type": "code",
   "execution_count": 18,
   "id": "42aaa1dd",
   "metadata": {},
   "outputs": [
    {
     "data": {
      "text/plain": [
       "array(['M', 'F'], dtype=object)"
      ]
     },
     "execution_count": 18,
     "metadata": {},
     "output_type": "execute_result"
    }
   ],
   "source": [
    "data['gender'].unique()"
   ]
  },
  {
   "cell_type": "code",
   "execution_count": 19,
   "id": "a3366ae8",
   "metadata": {},
   "outputs": [
    {
     "data": {
      "text/html": [
       "<div>\n",
       "<style scoped>\n",
       "    .dataframe tbody tr th:only-of-type {\n",
       "        vertical-align: middle;\n",
       "    }\n",
       "\n",
       "    .dataframe tbody tr th {\n",
       "        vertical-align: top;\n",
       "    }\n",
       "\n",
       "    .dataframe thead th {\n",
       "        text-align: right;\n",
       "    }\n",
       "</style>\n",
       "<table border=\"1\" class=\"dataframe\">\n",
       "  <thead>\n",
       "    <tr style=\"text-align: right;\">\n",
       "      <th></th>\n",
       "      <th>gender</th>\n",
       "      <th>ssc_percent</th>\n",
       "      <th>ssc_board</th>\n",
       "      <th>hsc_percent</th>\n",
       "      <th>hsc_board</th>\n",
       "      <th>hsc_specialization</th>\n",
       "      <th>degree_percent</th>\n",
       "      <th>degree_type</th>\n",
       "      <th>work_experience</th>\n",
       "      <th>employability_test_percent</th>\n",
       "      <th>status</th>\n",
       "    </tr>\n",
       "  </thead>\n",
       "  <tbody>\n",
       "    <tr>\n",
       "      <th>0</th>\n",
       "      <td>0</td>\n",
       "      <td>67.00</td>\n",
       "      <td>Others</td>\n",
       "      <td>91.00</td>\n",
       "      <td>Others</td>\n",
       "      <td>Commerce</td>\n",
       "      <td>58.00</td>\n",
       "      <td>Sci&amp;Tech</td>\n",
       "      <td>No</td>\n",
       "      <td>55.0</td>\n",
       "      <td>Placed</td>\n",
       "    </tr>\n",
       "    <tr>\n",
       "      <th>1</th>\n",
       "      <td>0</td>\n",
       "      <td>79.33</td>\n",
       "      <td>Central</td>\n",
       "      <td>78.33</td>\n",
       "      <td>Others</td>\n",
       "      <td>Science</td>\n",
       "      <td>77.48</td>\n",
       "      <td>Sci&amp;Tech</td>\n",
       "      <td>Yes</td>\n",
       "      <td>86.5</td>\n",
       "      <td>Placed</td>\n",
       "    </tr>\n",
       "  </tbody>\n",
       "</table>\n",
       "</div>"
      ],
      "text/plain": [
       "   gender  ssc_percent ssc_board  hsc_percent hsc_board hsc_specialization  \\\n",
       "0       0        67.00    Others        91.00    Others           Commerce   \n",
       "1       0        79.33   Central        78.33    Others            Science   \n",
       "\n",
       "   degree_percent degree_type work_experience  employability_test_percent  \\\n",
       "0           58.00    Sci&Tech              No                        55.0   \n",
       "1           77.48    Sci&Tech             Yes                        86.5   \n",
       "\n",
       "   status  \n",
       "0  Placed  \n",
       "1  Placed  "
      ]
     },
     "execution_count": 19,
     "metadata": {},
     "output_type": "execute_result"
    }
   ],
   "source": [
    "data['gender'] = data['gender'].map({'F':1,'M':0})\n",
    "data.head(2)"
   ]
  },
  {
   "cell_type": "markdown",
   "id": "55471953",
   "metadata": {},
   "source": [
    "#### 2.SSC_Board"
   ]
  },
  {
   "cell_type": "code",
   "execution_count": 20,
   "id": "7ec4bd12",
   "metadata": {},
   "outputs": [
    {
     "data": {
      "text/plain": [
       "array(['Others', 'Central'], dtype=object)"
      ]
     },
     "execution_count": 20,
     "metadata": {},
     "output_type": "execute_result"
    }
   ],
   "source": [
    "data['ssc_board'].unique()"
   ]
  },
  {
   "cell_type": "code",
   "execution_count": 21,
   "id": "f66b1adc",
   "metadata": {},
   "outputs": [
    {
     "data": {
      "text/html": [
       "<div>\n",
       "<style scoped>\n",
       "    .dataframe tbody tr th:only-of-type {\n",
       "        vertical-align: middle;\n",
       "    }\n",
       "\n",
       "    .dataframe tbody tr th {\n",
       "        vertical-align: top;\n",
       "    }\n",
       "\n",
       "    .dataframe thead th {\n",
       "        text-align: right;\n",
       "    }\n",
       "</style>\n",
       "<table border=\"1\" class=\"dataframe\">\n",
       "  <thead>\n",
       "    <tr style=\"text-align: right;\">\n",
       "      <th></th>\n",
       "      <th>gender</th>\n",
       "      <th>ssc_percent</th>\n",
       "      <th>ssc_board</th>\n",
       "      <th>hsc_percent</th>\n",
       "      <th>hsc_board</th>\n",
       "      <th>hsc_specialization</th>\n",
       "      <th>degree_percent</th>\n",
       "      <th>degree_type</th>\n",
       "      <th>work_experience</th>\n",
       "      <th>employability_test_percent</th>\n",
       "      <th>status</th>\n",
       "    </tr>\n",
       "  </thead>\n",
       "  <tbody>\n",
       "    <tr>\n",
       "      <th>0</th>\n",
       "      <td>0</td>\n",
       "      <td>67.00</td>\n",
       "      <td>0</td>\n",
       "      <td>91.00</td>\n",
       "      <td>Others</td>\n",
       "      <td>Commerce</td>\n",
       "      <td>58.00</td>\n",
       "      <td>Sci&amp;Tech</td>\n",
       "      <td>No</td>\n",
       "      <td>55.0</td>\n",
       "      <td>Placed</td>\n",
       "    </tr>\n",
       "    <tr>\n",
       "      <th>1</th>\n",
       "      <td>0</td>\n",
       "      <td>79.33</td>\n",
       "      <td>1</td>\n",
       "      <td>78.33</td>\n",
       "      <td>Others</td>\n",
       "      <td>Science</td>\n",
       "      <td>77.48</td>\n",
       "      <td>Sci&amp;Tech</td>\n",
       "      <td>Yes</td>\n",
       "      <td>86.5</td>\n",
       "      <td>Placed</td>\n",
       "    </tr>\n",
       "  </tbody>\n",
       "</table>\n",
       "</div>"
      ],
      "text/plain": [
       "   gender  ssc_percent  ssc_board  hsc_percent hsc_board hsc_specialization  \\\n",
       "0       0        67.00          0        91.00    Others           Commerce   \n",
       "1       0        79.33          1        78.33    Others            Science   \n",
       "\n",
       "   degree_percent degree_type work_experience  employability_test_percent  \\\n",
       "0           58.00    Sci&Tech              No                        55.0   \n",
       "1           77.48    Sci&Tech             Yes                        86.5   \n",
       "\n",
       "   status  \n",
       "0  Placed  \n",
       "1  Placed  "
      ]
     },
     "execution_count": 21,
     "metadata": {},
     "output_type": "execute_result"
    }
   ],
   "source": [
    "data['ssc_board'] = data['ssc_board'].map({'Central':1,'Others':0})\n",
    "data.head(2)"
   ]
  },
  {
   "cell_type": "markdown",
   "id": "933fd7c3",
   "metadata": {},
   "source": [
    "#### 3. HSC_Board"
   ]
  },
  {
   "cell_type": "code",
   "execution_count": 22,
   "id": "6cd4f04b",
   "metadata": {},
   "outputs": [
    {
     "data": {
      "text/plain": [
       "array(['Others', 'Central'], dtype=object)"
      ]
     },
     "execution_count": 22,
     "metadata": {},
     "output_type": "execute_result"
    }
   ],
   "source": [
    "data['hsc_board'].unique()"
   ]
  },
  {
   "cell_type": "code",
   "execution_count": 23,
   "id": "25f27a05",
   "metadata": {},
   "outputs": [
    {
     "data": {
      "text/html": [
       "<div>\n",
       "<style scoped>\n",
       "    .dataframe tbody tr th:only-of-type {\n",
       "        vertical-align: middle;\n",
       "    }\n",
       "\n",
       "    .dataframe tbody tr th {\n",
       "        vertical-align: top;\n",
       "    }\n",
       "\n",
       "    .dataframe thead th {\n",
       "        text-align: right;\n",
       "    }\n",
       "</style>\n",
       "<table border=\"1\" class=\"dataframe\">\n",
       "  <thead>\n",
       "    <tr style=\"text-align: right;\">\n",
       "      <th></th>\n",
       "      <th>gender</th>\n",
       "      <th>ssc_percent</th>\n",
       "      <th>ssc_board</th>\n",
       "      <th>hsc_percent</th>\n",
       "      <th>hsc_board</th>\n",
       "      <th>hsc_specialization</th>\n",
       "      <th>degree_percent</th>\n",
       "      <th>degree_type</th>\n",
       "      <th>work_experience</th>\n",
       "      <th>employability_test_percent</th>\n",
       "      <th>status</th>\n",
       "    </tr>\n",
       "  </thead>\n",
       "  <tbody>\n",
       "    <tr>\n",
       "      <th>0</th>\n",
       "      <td>0</td>\n",
       "      <td>67.00</td>\n",
       "      <td>0</td>\n",
       "      <td>91.00</td>\n",
       "      <td>0</td>\n",
       "      <td>Commerce</td>\n",
       "      <td>58.00</td>\n",
       "      <td>Sci&amp;Tech</td>\n",
       "      <td>No</td>\n",
       "      <td>55.0</td>\n",
       "      <td>Placed</td>\n",
       "    </tr>\n",
       "    <tr>\n",
       "      <th>1</th>\n",
       "      <td>0</td>\n",
       "      <td>79.33</td>\n",
       "      <td>1</td>\n",
       "      <td>78.33</td>\n",
       "      <td>0</td>\n",
       "      <td>Science</td>\n",
       "      <td>77.48</td>\n",
       "      <td>Sci&amp;Tech</td>\n",
       "      <td>Yes</td>\n",
       "      <td>86.5</td>\n",
       "      <td>Placed</td>\n",
       "    </tr>\n",
       "  </tbody>\n",
       "</table>\n",
       "</div>"
      ],
      "text/plain": [
       "   gender  ssc_percent  ssc_board  hsc_percent  hsc_board hsc_specialization  \\\n",
       "0       0        67.00          0        91.00          0           Commerce   \n",
       "1       0        79.33          1        78.33          0            Science   \n",
       "\n",
       "   degree_percent degree_type work_experience  employability_test_percent  \\\n",
       "0           58.00    Sci&Tech              No                        55.0   \n",
       "1           77.48    Sci&Tech             Yes                        86.5   \n",
       "\n",
       "   status  \n",
       "0  Placed  \n",
       "1  Placed  "
      ]
     },
     "execution_count": 23,
     "metadata": {},
     "output_type": "execute_result"
    }
   ],
   "source": [
    "data['hsc_board'] = data['hsc_board'].map({'Central':1,'Others':0})\n",
    "data.head(2)"
   ]
  },
  {
   "cell_type": "markdown",
   "id": "b153d049",
   "metadata": {},
   "source": [
    "#### 4. HSC_Specialization"
   ]
  },
  {
   "cell_type": "code",
   "execution_count": 24,
   "id": "8cdc6f3d",
   "metadata": {},
   "outputs": [
    {
     "data": {
      "text/plain": [
       "array(['Commerce', 'Science', 'Arts'], dtype=object)"
      ]
     },
     "execution_count": 24,
     "metadata": {},
     "output_type": "execute_result"
    }
   ],
   "source": [
    "data['hsc_specialization'].unique()"
   ]
  },
  {
   "cell_type": "code",
   "execution_count": 25,
   "id": "74552573",
   "metadata": {},
   "outputs": [
    {
     "data": {
      "text/html": [
       "<div>\n",
       "<style scoped>\n",
       "    .dataframe tbody tr th:only-of-type {\n",
       "        vertical-align: middle;\n",
       "    }\n",
       "\n",
       "    .dataframe tbody tr th {\n",
       "        vertical-align: top;\n",
       "    }\n",
       "\n",
       "    .dataframe thead th {\n",
       "        text-align: right;\n",
       "    }\n",
       "</style>\n",
       "<table border=\"1\" class=\"dataframe\">\n",
       "  <thead>\n",
       "    <tr style=\"text-align: right;\">\n",
       "      <th></th>\n",
       "      <th>gender</th>\n",
       "      <th>ssc_percent</th>\n",
       "      <th>ssc_board</th>\n",
       "      <th>hsc_percent</th>\n",
       "      <th>hsc_board</th>\n",
       "      <th>hsc_specialization</th>\n",
       "      <th>degree_percent</th>\n",
       "      <th>degree_type</th>\n",
       "      <th>work_experience</th>\n",
       "      <th>employability_test_percent</th>\n",
       "      <th>status</th>\n",
       "    </tr>\n",
       "  </thead>\n",
       "  <tbody>\n",
       "    <tr>\n",
       "      <th>0</th>\n",
       "      <td>0</td>\n",
       "      <td>67.00</td>\n",
       "      <td>0</td>\n",
       "      <td>91.00</td>\n",
       "      <td>0</td>\n",
       "      <td>1</td>\n",
       "      <td>58.00</td>\n",
       "      <td>Sci&amp;Tech</td>\n",
       "      <td>No</td>\n",
       "      <td>55.0</td>\n",
       "      <td>Placed</td>\n",
       "    </tr>\n",
       "    <tr>\n",
       "      <th>1</th>\n",
       "      <td>0</td>\n",
       "      <td>79.33</td>\n",
       "      <td>1</td>\n",
       "      <td>78.33</td>\n",
       "      <td>0</td>\n",
       "      <td>2</td>\n",
       "      <td>77.48</td>\n",
       "      <td>Sci&amp;Tech</td>\n",
       "      <td>Yes</td>\n",
       "      <td>86.5</td>\n",
       "      <td>Placed</td>\n",
       "    </tr>\n",
       "  </tbody>\n",
       "</table>\n",
       "</div>"
      ],
      "text/plain": [
       "   gender  ssc_percent  ssc_board  hsc_percent  hsc_board  hsc_specialization  \\\n",
       "0       0        67.00          0        91.00          0                   1   \n",
       "1       0        79.33          1        78.33          0                   2   \n",
       "\n",
       "   degree_percent degree_type work_experience  employability_test_percent  \\\n",
       "0           58.00    Sci&Tech              No                        55.0   \n",
       "1           77.48    Sci&Tech             Yes                        86.5   \n",
       "\n",
       "   status  \n",
       "0  Placed  \n",
       "1  Placed  "
      ]
     },
     "execution_count": 25,
     "metadata": {},
     "output_type": "execute_result"
    }
   ],
   "source": [
    "data['hsc_specialization'] = data['hsc_specialization'].map({'Science':2,'Commerce':1,'Arts':0})\n",
    "data.head(2)"
   ]
  },
  {
   "cell_type": "markdown",
   "id": "bb9d2487",
   "metadata": {},
   "source": [
    "#### 5.Degree type"
   ]
  },
  {
   "cell_type": "code",
   "execution_count": 26,
   "id": "1cab8645",
   "metadata": {},
   "outputs": [
    {
     "data": {
      "text/plain": [
       "array(['Sci&Tech', 'Comm&Mgmt', 'Others'], dtype=object)"
      ]
     },
     "execution_count": 26,
     "metadata": {},
     "output_type": "execute_result"
    }
   ],
   "source": [
    "data['degree_type'].unique()"
   ]
  },
  {
   "cell_type": "code",
   "execution_count": 27,
   "id": "f01c29b0",
   "metadata": {},
   "outputs": [
    {
     "data": {
      "text/html": [
       "<div>\n",
       "<style scoped>\n",
       "    .dataframe tbody tr th:only-of-type {\n",
       "        vertical-align: middle;\n",
       "    }\n",
       "\n",
       "    .dataframe tbody tr th {\n",
       "        vertical-align: top;\n",
       "    }\n",
       "\n",
       "    .dataframe thead th {\n",
       "        text-align: right;\n",
       "    }\n",
       "</style>\n",
       "<table border=\"1\" class=\"dataframe\">\n",
       "  <thead>\n",
       "    <tr style=\"text-align: right;\">\n",
       "      <th></th>\n",
       "      <th>gender</th>\n",
       "      <th>ssc_percent</th>\n",
       "      <th>ssc_board</th>\n",
       "      <th>hsc_percent</th>\n",
       "      <th>hsc_board</th>\n",
       "      <th>hsc_specialization</th>\n",
       "      <th>degree_percent</th>\n",
       "      <th>degree_type</th>\n",
       "      <th>work_experience</th>\n",
       "      <th>employability_test_percent</th>\n",
       "      <th>status</th>\n",
       "    </tr>\n",
       "  </thead>\n",
       "  <tbody>\n",
       "    <tr>\n",
       "      <th>0</th>\n",
       "      <td>0</td>\n",
       "      <td>67.00</td>\n",
       "      <td>0</td>\n",
       "      <td>91.00</td>\n",
       "      <td>0</td>\n",
       "      <td>1</td>\n",
       "      <td>58.00</td>\n",
       "      <td>2</td>\n",
       "      <td>No</td>\n",
       "      <td>55.0</td>\n",
       "      <td>Placed</td>\n",
       "    </tr>\n",
       "    <tr>\n",
       "      <th>1</th>\n",
       "      <td>0</td>\n",
       "      <td>79.33</td>\n",
       "      <td>1</td>\n",
       "      <td>78.33</td>\n",
       "      <td>0</td>\n",
       "      <td>2</td>\n",
       "      <td>77.48</td>\n",
       "      <td>2</td>\n",
       "      <td>Yes</td>\n",
       "      <td>86.5</td>\n",
       "      <td>Placed</td>\n",
       "    </tr>\n",
       "  </tbody>\n",
       "</table>\n",
       "</div>"
      ],
      "text/plain": [
       "   gender  ssc_percent  ssc_board  hsc_percent  hsc_board  hsc_specialization  \\\n",
       "0       0        67.00          0        91.00          0                   1   \n",
       "1       0        79.33          1        78.33          0                   2   \n",
       "\n",
       "   degree_percent  degree_type work_experience  employability_test_percent  \\\n",
       "0           58.00            2              No                        55.0   \n",
       "1           77.48            2             Yes                        86.5   \n",
       "\n",
       "   status  \n",
       "0  Placed  \n",
       "1  Placed  "
      ]
     },
     "execution_count": 27,
     "metadata": {},
     "output_type": "execute_result"
    }
   ],
   "source": [
    "data['degree_type'] = data['degree_type'].map({'Sci&Tech':2,'Comm&Mgmt':1,'Others':0})\n",
    "data.head(2)"
   ]
  },
  {
   "cell_type": "markdown",
   "id": "6c6832d7",
   "metadata": {},
   "source": [
    "#### 6. Work Experience"
   ]
  },
  {
   "cell_type": "code",
   "execution_count": 28,
   "id": "d0b97cc0",
   "metadata": {},
   "outputs": [
    {
     "data": {
      "text/plain": [
       "array(['No', 'Yes'], dtype=object)"
      ]
     },
     "execution_count": 28,
     "metadata": {},
     "output_type": "execute_result"
    }
   ],
   "source": [
    "data['work_experience'].unique()"
   ]
  },
  {
   "cell_type": "code",
   "execution_count": 29,
   "id": "6654c750",
   "metadata": {},
   "outputs": [
    {
     "data": {
      "text/html": [
       "<div>\n",
       "<style scoped>\n",
       "    .dataframe tbody tr th:only-of-type {\n",
       "        vertical-align: middle;\n",
       "    }\n",
       "\n",
       "    .dataframe tbody tr th {\n",
       "        vertical-align: top;\n",
       "    }\n",
       "\n",
       "    .dataframe thead th {\n",
       "        text-align: right;\n",
       "    }\n",
       "</style>\n",
       "<table border=\"1\" class=\"dataframe\">\n",
       "  <thead>\n",
       "    <tr style=\"text-align: right;\">\n",
       "      <th></th>\n",
       "      <th>gender</th>\n",
       "      <th>ssc_percent</th>\n",
       "      <th>ssc_board</th>\n",
       "      <th>hsc_percent</th>\n",
       "      <th>hsc_board</th>\n",
       "      <th>hsc_specialization</th>\n",
       "      <th>degree_percent</th>\n",
       "      <th>degree_type</th>\n",
       "      <th>work_experience</th>\n",
       "      <th>employability_test_percent</th>\n",
       "      <th>status</th>\n",
       "    </tr>\n",
       "  </thead>\n",
       "  <tbody>\n",
       "    <tr>\n",
       "      <th>0</th>\n",
       "      <td>0</td>\n",
       "      <td>67.00</td>\n",
       "      <td>0</td>\n",
       "      <td>91.00</td>\n",
       "      <td>0</td>\n",
       "      <td>1</td>\n",
       "      <td>58.00</td>\n",
       "      <td>2</td>\n",
       "      <td>0</td>\n",
       "      <td>55.0</td>\n",
       "      <td>Placed</td>\n",
       "    </tr>\n",
       "    <tr>\n",
       "      <th>1</th>\n",
       "      <td>0</td>\n",
       "      <td>79.33</td>\n",
       "      <td>1</td>\n",
       "      <td>78.33</td>\n",
       "      <td>0</td>\n",
       "      <td>2</td>\n",
       "      <td>77.48</td>\n",
       "      <td>2</td>\n",
       "      <td>1</td>\n",
       "      <td>86.5</td>\n",
       "      <td>Placed</td>\n",
       "    </tr>\n",
       "  </tbody>\n",
       "</table>\n",
       "</div>"
      ],
      "text/plain": [
       "   gender  ssc_percent  ssc_board  hsc_percent  hsc_board  hsc_specialization  \\\n",
       "0       0        67.00          0        91.00          0                   1   \n",
       "1       0        79.33          1        78.33          0                   2   \n",
       "\n",
       "   degree_percent  degree_type  work_experience  employability_test_percent  \\\n",
       "0           58.00            2                0                        55.0   \n",
       "1           77.48            2                1                        86.5   \n",
       "\n",
       "   status  \n",
       "0  Placed  \n",
       "1  Placed  "
      ]
     },
     "execution_count": 29,
     "metadata": {},
     "output_type": "execute_result"
    }
   ],
   "source": [
    "data['work_experience'] = data['work_experience'].map({'Yes':1,'No':0})\n",
    "data.head(2)"
   ]
  },
  {
   "cell_type": "markdown",
   "id": "9ef4de14",
   "metadata": {},
   "source": [
    "#### 7. Status"
   ]
  },
  {
   "cell_type": "code",
   "execution_count": 30,
   "id": "27e0a8df",
   "metadata": {},
   "outputs": [
    {
     "data": {
      "text/plain": [
       "array(['Placed', 'Not Placed'], dtype=object)"
      ]
     },
     "execution_count": 30,
     "metadata": {},
     "output_type": "execute_result"
    }
   ],
   "source": [
    "data['status'].unique()"
   ]
  },
  {
   "cell_type": "code",
   "execution_count": 31,
   "id": "5f785cf6",
   "metadata": {},
   "outputs": [],
   "source": [
    "data['status'] = data['status'].map({'Placed':1,'Not Placed':0})"
   ]
  },
  {
   "cell_type": "code",
   "execution_count": 32,
   "id": "8f51d9a3",
   "metadata": {},
   "outputs": [
    {
     "data": {
      "text/html": [
       "<div>\n",
       "<style scoped>\n",
       "    .dataframe tbody tr th:only-of-type {\n",
       "        vertical-align: middle;\n",
       "    }\n",
       "\n",
       "    .dataframe tbody tr th {\n",
       "        vertical-align: top;\n",
       "    }\n",
       "\n",
       "    .dataframe thead th {\n",
       "        text-align: right;\n",
       "    }\n",
       "</style>\n",
       "<table border=\"1\" class=\"dataframe\">\n",
       "  <thead>\n",
       "    <tr style=\"text-align: right;\">\n",
       "      <th></th>\n",
       "      <th>gender</th>\n",
       "      <th>ssc_percent</th>\n",
       "      <th>ssc_board</th>\n",
       "      <th>hsc_percent</th>\n",
       "      <th>hsc_board</th>\n",
       "      <th>hsc_specialization</th>\n",
       "      <th>degree_percent</th>\n",
       "      <th>degree_type</th>\n",
       "      <th>work_experience</th>\n",
       "      <th>employability_test_percent</th>\n",
       "      <th>status</th>\n",
       "    </tr>\n",
       "  </thead>\n",
       "  <tbody>\n",
       "    <tr>\n",
       "      <th>0</th>\n",
       "      <td>0</td>\n",
       "      <td>67.00</td>\n",
       "      <td>0</td>\n",
       "      <td>91.00</td>\n",
       "      <td>0</td>\n",
       "      <td>1</td>\n",
       "      <td>58.00</td>\n",
       "      <td>2</td>\n",
       "      <td>0</td>\n",
       "      <td>55.0</td>\n",
       "      <td>1</td>\n",
       "    </tr>\n",
       "    <tr>\n",
       "      <th>1</th>\n",
       "      <td>0</td>\n",
       "      <td>79.33</td>\n",
       "      <td>1</td>\n",
       "      <td>78.33</td>\n",
       "      <td>0</td>\n",
       "      <td>2</td>\n",
       "      <td>77.48</td>\n",
       "      <td>2</td>\n",
       "      <td>1</td>\n",
       "      <td>86.5</td>\n",
       "      <td>1</td>\n",
       "    </tr>\n",
       "    <tr>\n",
       "      <th>2</th>\n",
       "      <td>0</td>\n",
       "      <td>65.00</td>\n",
       "      <td>1</td>\n",
       "      <td>68.00</td>\n",
       "      <td>1</td>\n",
       "      <td>0</td>\n",
       "      <td>64.00</td>\n",
       "      <td>1</td>\n",
       "      <td>0</td>\n",
       "      <td>75.0</td>\n",
       "      <td>1</td>\n",
       "    </tr>\n",
       "    <tr>\n",
       "      <th>3</th>\n",
       "      <td>0</td>\n",
       "      <td>56.00</td>\n",
       "      <td>1</td>\n",
       "      <td>52.00</td>\n",
       "      <td>1</td>\n",
       "      <td>2</td>\n",
       "      <td>52.00</td>\n",
       "      <td>2</td>\n",
       "      <td>0</td>\n",
       "      <td>66.0</td>\n",
       "      <td>0</td>\n",
       "    </tr>\n",
       "    <tr>\n",
       "      <th>4</th>\n",
       "      <td>0</td>\n",
       "      <td>85.80</td>\n",
       "      <td>1</td>\n",
       "      <td>73.60</td>\n",
       "      <td>1</td>\n",
       "      <td>1</td>\n",
       "      <td>73.30</td>\n",
       "      <td>1</td>\n",
       "      <td>0</td>\n",
       "      <td>96.8</td>\n",
       "      <td>1</td>\n",
       "    </tr>\n",
       "  </tbody>\n",
       "</table>\n",
       "</div>"
      ],
      "text/plain": [
       "   gender  ssc_percent  ssc_board  hsc_percent  hsc_board  hsc_specialization  \\\n",
       "0       0        67.00          0        91.00          0                   1   \n",
       "1       0        79.33          1        78.33          0                   2   \n",
       "2       0        65.00          1        68.00          1                   0   \n",
       "3       0        56.00          1        52.00          1                   2   \n",
       "4       0        85.80          1        73.60          1                   1   \n",
       "\n",
       "   degree_percent  degree_type  work_experience  employability_test_percent  \\\n",
       "0           58.00            2                0                        55.0   \n",
       "1           77.48            2                1                        86.5   \n",
       "2           64.00            1                0                        75.0   \n",
       "3           52.00            2                0                        66.0   \n",
       "4           73.30            1                0                        96.8   \n",
       "\n",
       "   status  \n",
       "0       1  \n",
       "1       1  \n",
       "2       1  \n",
       "3       0  \n",
       "4       1  "
      ]
     },
     "execution_count": 32,
     "metadata": {},
     "output_type": "execute_result"
    }
   ],
   "source": [
    "data.head()"
   ]
  },
  {
   "cell_type": "code",
   "execution_count": 33,
   "id": "00e761d5",
   "metadata": {},
   "outputs": [
    {
     "data": {
      "text/plain": [
       "Index(['gender', 'ssc_percent', 'ssc_board', 'hsc_percent', 'hsc_board',\n",
       "       'hsc_specialization', 'degree_percent', 'degree_type',\n",
       "       'work_experience', 'employability_test_percent', 'status'],\n",
       "      dtype='object')"
      ]
     },
     "execution_count": 33,
     "metadata": {},
     "output_type": "execute_result"
    }
   ],
   "source": [
    "data.columns"
   ]
  },
  {
   "cell_type": "markdown",
   "id": "6ee84c11",
   "metadata": {},
   "source": [
    "### Checking Balance of Dataset"
   ]
  },
  {
   "cell_type": "code",
   "execution_count": 34,
   "id": "246f1f0f",
   "metadata": {},
   "outputs": [
    {
     "name": "stdout",
     "output_type": "stream",
     "text": [
      "Class distribution:\n",
      "status\n",
      "1    148\n",
      "0     67\n",
      "Name: count, dtype: int64\n",
      "Imbalance ratio: 2.208955223880597\n",
      "Class distribution after oversampling:\n",
      "status\n",
      "1    148\n",
      "0    148\n",
      "Name: count, dtype: int64\n"
     ]
    },
    {
     "data": {
      "text/html": [
       "<div>\n",
       "<style scoped>\n",
       "    .dataframe tbody tr th:only-of-type {\n",
       "        vertical-align: middle;\n",
       "    }\n",
       "\n",
       "    .dataframe tbody tr th {\n",
       "        vertical-align: top;\n",
       "    }\n",
       "\n",
       "    .dataframe thead th {\n",
       "        text-align: right;\n",
       "    }\n",
       "</style>\n",
       "<table border=\"1\" class=\"dataframe\">\n",
       "  <thead>\n",
       "    <tr style=\"text-align: right;\">\n",
       "      <th></th>\n",
       "      <th>gender</th>\n",
       "      <th>ssc_percent</th>\n",
       "      <th>ssc_board</th>\n",
       "      <th>hsc_percent</th>\n",
       "      <th>hsc_board</th>\n",
       "      <th>hsc_specialization</th>\n",
       "      <th>degree_percent</th>\n",
       "      <th>degree_type</th>\n",
       "      <th>work_experience</th>\n",
       "      <th>employability_test_percent</th>\n",
       "      <th>status</th>\n",
       "    </tr>\n",
       "  </thead>\n",
       "  <tbody>\n",
       "    <tr>\n",
       "      <th>0</th>\n",
       "      <td>0</td>\n",
       "      <td>67.000000</td>\n",
       "      <td>0</td>\n",
       "      <td>91.000000</td>\n",
       "      <td>0</td>\n",
       "      <td>1</td>\n",
       "      <td>58.000000</td>\n",
       "      <td>2</td>\n",
       "      <td>0</td>\n",
       "      <td>55.000000</td>\n",
       "      <td>1</td>\n",
       "    </tr>\n",
       "    <tr>\n",
       "      <th>1</th>\n",
       "      <td>0</td>\n",
       "      <td>79.330000</td>\n",
       "      <td>1</td>\n",
       "      <td>78.330000</td>\n",
       "      <td>0</td>\n",
       "      <td>2</td>\n",
       "      <td>77.480000</td>\n",
       "      <td>2</td>\n",
       "      <td>1</td>\n",
       "      <td>86.500000</td>\n",
       "      <td>1</td>\n",
       "    </tr>\n",
       "    <tr>\n",
       "      <th>2</th>\n",
       "      <td>0</td>\n",
       "      <td>65.000000</td>\n",
       "      <td>1</td>\n",
       "      <td>68.000000</td>\n",
       "      <td>1</td>\n",
       "      <td>0</td>\n",
       "      <td>64.000000</td>\n",
       "      <td>1</td>\n",
       "      <td>0</td>\n",
       "      <td>75.000000</td>\n",
       "      <td>1</td>\n",
       "    </tr>\n",
       "    <tr>\n",
       "      <th>3</th>\n",
       "      <td>0</td>\n",
       "      <td>56.000000</td>\n",
       "      <td>1</td>\n",
       "      <td>52.000000</td>\n",
       "      <td>1</td>\n",
       "      <td>2</td>\n",
       "      <td>52.000000</td>\n",
       "      <td>2</td>\n",
       "      <td>0</td>\n",
       "      <td>66.000000</td>\n",
       "      <td>0</td>\n",
       "    </tr>\n",
       "    <tr>\n",
       "      <th>4</th>\n",
       "      <td>0</td>\n",
       "      <td>85.800000</td>\n",
       "      <td>1</td>\n",
       "      <td>73.600000</td>\n",
       "      <td>1</td>\n",
       "      <td>1</td>\n",
       "      <td>73.300000</td>\n",
       "      <td>1</td>\n",
       "      <td>0</td>\n",
       "      <td>96.800000</td>\n",
       "      <td>1</td>\n",
       "    </tr>\n",
       "    <tr>\n",
       "      <th>...</th>\n",
       "      <td>...</td>\n",
       "      <td>...</td>\n",
       "      <td>...</td>\n",
       "      <td>...</td>\n",
       "      <td>...</td>\n",
       "      <td>...</td>\n",
       "      <td>...</td>\n",
       "      <td>...</td>\n",
       "      <td>...</td>\n",
       "      <td>...</td>\n",
       "      <td>...</td>\n",
       "    </tr>\n",
       "    <tr>\n",
       "      <th>291</th>\n",
       "      <td>0</td>\n",
       "      <td>48.438647</td>\n",
       "      <td>0</td>\n",
       "      <td>60.726376</td>\n",
       "      <td>0</td>\n",
       "      <td>0</td>\n",
       "      <td>61.985894</td>\n",
       "      <td>0</td>\n",
       "      <td>0</td>\n",
       "      <td>77.136812</td>\n",
       "      <td>0</td>\n",
       "    </tr>\n",
       "    <tr>\n",
       "      <th>292</th>\n",
       "      <td>0</td>\n",
       "      <td>66.851913</td>\n",
       "      <td>0</td>\n",
       "      <td>63.148087</td>\n",
       "      <td>0</td>\n",
       "      <td>2</td>\n",
       "      <td>63.407652</td>\n",
       "      <td>1</td>\n",
       "      <td>0</td>\n",
       "      <td>60.000000</td>\n",
       "      <td>0</td>\n",
       "    </tr>\n",
       "    <tr>\n",
       "      <th>293</th>\n",
       "      <td>0</td>\n",
       "      <td>66.991866</td>\n",
       "      <td>0</td>\n",
       "      <td>63.009490</td>\n",
       "      <td>0</td>\n",
       "      <td>1</td>\n",
       "      <td>63.990962</td>\n",
       "      <td>1</td>\n",
       "      <td>0</td>\n",
       "      <td>59.995617</td>\n",
       "      <td>0</td>\n",
       "    </tr>\n",
       "    <tr>\n",
       "      <th>294</th>\n",
       "      <td>0</td>\n",
       "      <td>62.000000</td>\n",
       "      <td>1</td>\n",
       "      <td>65.533562</td>\n",
       "      <td>0</td>\n",
       "      <td>1</td>\n",
       "      <td>59.466438</td>\n",
       "      <td>1</td>\n",
       "      <td>0</td>\n",
       "      <td>82.132533</td>\n",
       "      <td>0</td>\n",
       "    </tr>\n",
       "    <tr>\n",
       "      <th>295</th>\n",
       "      <td>0</td>\n",
       "      <td>52.013563</td>\n",
       "      <td>0</td>\n",
       "      <td>61.826951</td>\n",
       "      <td>1</td>\n",
       "      <td>1</td>\n",
       "      <td>53.911137</td>\n",
       "      <td>1</td>\n",
       "      <td>0</td>\n",
       "      <td>72.093540</td>\n",
       "      <td>0</td>\n",
       "    </tr>\n",
       "  </tbody>\n",
       "</table>\n",
       "<p>296 rows × 11 columns</p>\n",
       "</div>"
      ],
      "text/plain": [
       "     gender  ssc_percent  ssc_board  hsc_percent  hsc_board  \\\n",
       "0         0    67.000000          0    91.000000          0   \n",
       "1         0    79.330000          1    78.330000          0   \n",
       "2         0    65.000000          1    68.000000          1   \n",
       "3         0    56.000000          1    52.000000          1   \n",
       "4         0    85.800000          1    73.600000          1   \n",
       "..      ...          ...        ...          ...        ...   \n",
       "291       0    48.438647          0    60.726376          0   \n",
       "292       0    66.851913          0    63.148087          0   \n",
       "293       0    66.991866          0    63.009490          0   \n",
       "294       0    62.000000          1    65.533562          0   \n",
       "295       0    52.013563          0    61.826951          1   \n",
       "\n",
       "     hsc_specialization  degree_percent  degree_type  work_experience  \\\n",
       "0                     1       58.000000            2                0   \n",
       "1                     2       77.480000            2                1   \n",
       "2                     0       64.000000            1                0   \n",
       "3                     2       52.000000            2                0   \n",
       "4                     1       73.300000            1                0   \n",
       "..                  ...             ...          ...              ...   \n",
       "291                   0       61.985894            0                0   \n",
       "292                   2       63.407652            1                0   \n",
       "293                   1       63.990962            1                0   \n",
       "294                   1       59.466438            1                0   \n",
       "295                   1       53.911137            1                0   \n",
       "\n",
       "     employability_test_percent  status  \n",
       "0                     55.000000       1  \n",
       "1                     86.500000       1  \n",
       "2                     75.000000       1  \n",
       "3                     66.000000       0  \n",
       "4                     96.800000       1  \n",
       "..                          ...     ...  \n",
       "291                   77.136812       0  \n",
       "292                   60.000000       0  \n",
       "293                   59.995617       0  \n",
       "294                   82.132533       0  \n",
       "295                   72.093540       0  \n",
       "\n",
       "[296 rows x 11 columns]"
      ]
     },
     "execution_count": 34,
     "metadata": {},
     "output_type": "execute_result"
    }
   ],
   "source": [
    "from imblearn.over_sampling import SMOTE\n",
    "\n",
    "# Check class distribution\n",
    "class_distribution = data['status'].value_counts()\n",
    "print(\"Class distribution:\")\n",
    "print(class_distribution)\n",
    "# Calculate class imbalance ratio\n",
    "imbalance_ratio = class_distribution.max() / class_distribution.min()\n",
    "print(\"Imbalance ratio:\", imbalance_ratio)\n",
    "\n",
    "# If imbalance ratio is high, apply oversampling\n",
    "if imbalance_ratio > 2:  # Adjust threshold as needed\n",
    "    # Initialize SMOTE\n",
    "    sm = SMOTE(random_state=42)\n",
    "\n",
    "    # Apply oversampling\n",
    "    X_resampled, y_resampled = sm.fit_resample(data.drop('status',axis=1),data['status'])\n",
    "\n",
    "    # Create a new DataFrame with the oversampled data\n",
    "    data_oversampled = pd.concat([pd.DataFrame(X_resampled), pd.Series(y_resampled, name='status')], axis=1)\n",
    "\n",
    "    # Print the new class distribution\n",
    "    print(\"Class distribution after oversampling:\")\n",
    "    print(data_oversampled['status'].value_counts())\n",
    "data_oversampled"
   ]
  },
  {
   "cell_type": "markdown",
   "id": "6242ab62",
   "metadata": {},
   "source": [
    "### Storing Feature matrix in X and target in y"
   ]
  },
  {
   "cell_type": "code",
   "execution_count": 35,
   "id": "b56bfd1b",
   "metadata": {},
   "outputs": [],
   "source": [
    "data=data_oversampled\n",
    "X=data.drop('status',axis=1)\n",
    "y=data['status']"
   ]
  },
  {
   "cell_type": "markdown",
   "id": "745d66bc",
   "metadata": {},
   "source": [
    "### Feature Scaling "
   ]
  },
  {
   "cell_type": "code",
   "execution_count": 36,
   "id": "b627fc45",
   "metadata": {},
   "outputs": [],
   "source": [
    "from sklearn.preprocessing import MinMaxScaler, StandardScaler\n",
    "\n",
    "# Assuming 'X' is your feature matrix\n",
    "# Choose the appropriate scaling technique:\n",
    "\n",
    "# Min-Max Scaling\n",
    "scaler = MinMaxScaler()\n",
    "X_scaled = scaler.fit_transform(X)\n",
    "\n",
    "X=X_scaled"
   ]
  },
  {
   "cell_type": "markdown",
   "id": "5fd2c390",
   "metadata": {},
   "source": [
    "## Feature Selection"
   ]
  },
  {
   "cell_type": "code",
   "execution_count": 37,
   "id": "2757696e",
   "metadata": {
    "scrolled": false
   },
   "outputs": [
    {
     "data": {
      "image/png": "[encoded data removed]",
      "text/plain": [
       "<Figure size 1200x1000 with 2 Axes>"
      ]
     },
     "metadata": {},
     "output_type": "display_data"
    }
   ],
   "source": [
    "import seaborn as sns\n",
    "import matplotlib.pyplot as plt\n",
    "#Using Pearson\n",
    "plt.figure(figsize=(12,10))\n",
    "cor=data.corr()\n",
    "sns.heatmap(cor,annot=True, cmap=plt.cm.Blues_r)\n",
    "plt.show()"
   ]
  },
  {
   "cell_type": "code",
   "execution_count": 38,
   "id": "1abb08e9",
   "metadata": {},
   "outputs": [],
   "source": [
    "def correlation(dataset,threshold):\n",
    "    col_corr=set()\n",
    "    corr_matrix=dataset.corr()\n",
    "    for i in range(len(corr_matrix.columns)):\n",
    "        for j in range(i):\n",
    "            if abs(corr_matrix.iloc[i,j])>threshold:\n",
    "                colname=corr_matrix.columns[i]\n",
    "                col_corr.add(colname)\n",
    "    return col_corr"
   ]
  },
  {
   "cell_type": "code",
   "execution_count": 39,
   "id": "8b8d7663",
   "metadata": {},
   "outputs": [
    {
     "data": {
      "text/plain": [
       "'corr_features=correlation(X_train,0.65)\\nlen(set(corr_features)) \\n#---->length is 0 i.e. all values are not highly correlated\\n# So no column is dropped\\ncorr_features'"
      ]
     },
     "execution_count": 39,
     "metadata": {},
     "output_type": "execute_result"
    }
   ],
   "source": [
    "'''corr_features=correlation(X_train,0.65)\n",
    "len(set(corr_features)) \n",
    "#---->length is 0 i.e. all values are not highly correlated\n",
    "# So no column is dropped\n",
    "corr_features'''"
   ]
  },
  {
   "cell_type": "markdown",
   "id": "e2c2b430",
   "metadata": {},
   "source": [
    "## Splitting Dataset "
   ]
  },
  {
   "cell_type": "code",
   "execution_count": 40,
   "id": "c31df302",
   "metadata": {},
   "outputs": [],
   "source": [
    "from sklearn.model_selection import train_test_split"
   ]
  },
  {
   "cell_type": "code",
   "execution_count": 41,
   "id": "a2e28b18",
   "metadata": {},
   "outputs": [],
   "source": [
    "X_train,X_test,y_train,y_test=train_test_split(X,y,test_size=0.20,random_state=42)"
   ]
  },
  {
   "cell_type": "markdown",
   "id": "54215e69",
   "metadata": {},
   "source": [
    "## Importing Modules for Machine learning "
   ]
  },
  {
   "cell_type": "code",
   "execution_count": 42,
   "id": "098b182e",
   "metadata": {},
   "outputs": [],
   "source": [
    "from sklearn.linear_model import LogisticRegression\n",
    "from sklearn.neighbors import KNeighborsClassifier\n",
    "from sklearn import svm\n",
    "from sklearn.tree import DecisionTreeClassifier\n",
    "from sklearn.ensemble import RandomForestClassifier\n",
    "from sklearn.ensemble import GradientBoostingClassifier"
   ]
  },
  {
   "cell_type": "markdown",
   "id": "978b56bb",
   "metadata": {},
   "source": [
    "## Model Training"
   ]
  },
  {
   "cell_type": "code",
   "execution_count": 43,
   "id": "6487ed58",
   "metadata": {},
   "outputs": [
    {
     "data": {
      "text/html": [
       "<style>#sk-container-id-1 {color: black;}#sk-container-id-1 pre{padding: 0;}#sk-container-id-1 div.sk-toggleable {background-color: white;}#sk-container-id-1 label.sk-toggleable__label {cursor: pointer;display: block;width: 100%;margin-bottom: 0;padding: 0.3em;box-sizing: border-box;text-align: center;}#sk-container-id-1 label.sk-toggleable__label-arrow:before {content: \"▸\";float: left;margin-right: 0.25em;color: #696969;}#sk-container-id-1 label.sk-toggleable__label-arrow:hover:before {color: black;}#sk-container-id-1 div.sk-estimator:hover label.sk-toggleable__label-arrow:before {color: black;}#sk-container-id-1 div.sk-toggleable__content {max-height: 0;max-width: 0;overflow: hidden;text-align: left;background-color: #f0f8ff;}#sk-container-id-1 div.sk-toggleable__content pre {margin: 0.2em;color: black;border-radius: 0.25em;background-color: #f0f8ff;}#sk-container-id-1 input.sk-toggleable__control:checked~div.sk-toggleable__content {max-height: 200px;max-width: 100%;overflow: auto;}#sk-container-id-1 input.sk-toggleable__control:checked~label.sk-toggleable__label-arrow:before {content: \"▾\";}#sk-container-id-1 div.sk-estimator input.sk-toggleable__control:checked~label.sk-toggleable__label {background-color: #d4ebff;}#sk-container-id-1 div.sk-label input.sk-toggleable__control:checked~label.sk-toggleable__label {background-color: #d4ebff;}#sk-container-id-1 input.sk-hidden--visually {border: 0;clip: rect(1px 1px 1px 1px);clip: rect(1px, 1px, 1px, 1px);height: 1px;margin: -1px;overflow: hidden;padding: 0;position: absolute;width: 1px;}#sk-container-id-1 div.sk-estimator {font-family: monospace;background-color: #f0f8ff;border: 1px dotted black;border-radius: 0.25em;box-sizing: border-box;margin-bottom: 0.5em;}#sk-container-id-1 div.sk-estimator:hover {background-color: #d4ebff;}#sk-container-id-1 div.sk-parallel-item::after {content: \"\";width: 100%;border-bottom: 1px solid gray;flex-grow: 1;}#sk-container-id-1 div.sk-label:hover label.sk-toggleable__label {background-color: #d4ebff;}#sk-container-id-1 div.sk-serial::before {content: \"\";position: absolute;border-left: 1px solid gray;box-sizing: border-box;top: 0;bottom: 0;left: 50%;z-index: 0;}#sk-container-id-1 div.sk-serial {display: flex;flex-direction: column;align-items: center;background-color: white;padding-right: 0.2em;padding-left: 0.2em;position: relative;}#sk-container-id-1 div.sk-item {position: relative;z-index: 1;}#sk-container-id-1 div.sk-parallel {display: flex;align-items: stretch;justify-content: center;background-color: white;position: relative;}#sk-container-id-1 div.sk-item::before, #sk-container-id-1 div.sk-parallel-item::before {content: \"\";position: absolute;border-left: 1px solid gray;box-sizing: border-box;top: 0;bottom: 0;left: 50%;z-index: -1;}#sk-container-id-1 div.sk-parallel-item {display: flex;flex-direction: column;z-index: 1;position: relative;background-color: white;}#sk-container-id-1 div.sk-parallel-item:first-child::after {align-self: flex-end;width: 50%;}#sk-container-id-1 div.sk-parallel-item:last-child::after {align-self: flex-start;width: 50%;}#sk-container-id-1 div.sk-parallel-item:only-child::after {width: 0;}#sk-container-id-1 div.sk-dashed-wrapped {border: 1px dashed gray;margin: 0 0.4em 0.5em 0.4em;box-sizing: border-box;padding-bottom: 0.4em;background-color: white;}#sk-container-id-1 div.sk-label label {font-family: monospace;font-weight: bold;display: inline-block;line-height: 1.2em;}#sk-container-id-1 div.sk-label-container {text-align: center;}#sk-container-id-1 div.sk-container {/* jupyter's `normalize.less` sets `[hidden] { display: none; }` but bootstrap.min.css set `[hidden] { display: none !important; }` so we also need the `!important` here to be able to override the default hidden behavior on the sphinx rendered scikit-learn.org. See: https://github.com/scikit-learn/scikit-learn/issues/21755 */display: inline-block !important;position: relative;}#sk-container-id-1 div.sk-text-repr-fallback {display: none;}</style><div id=\"sk-container-id-1\" class=\"sk-top-container\"><div class=\"sk-text-repr-fallback\"><pre>GradientBoostingClassifier()</pre><b>In a Jupyter environment, please rerun this cell to show the HTML representation or trust the notebook. <br />On GitHub, the HTML representation is unable to render, please try loading this page with nbviewer.org.</b></div><div class=\"sk-container\" hidden><div class=\"sk-item\"><div class=\"sk-estimator sk-toggleable\"><input class=\"sk-toggleable__control sk-hidden--visually\" id=\"sk-estimator-id-1\" type=\"checkbox\" checked><label for=\"sk-estimator-id-1\" class=\"sk-toggleable__label sk-toggleable__label-arrow\">GradientBoostingClassifier</label><div class=\"sk-toggleable__content\"><pre>GradientBoostingClassifier()</pre></div></div></div></div></div>"
      ],
      "text/plain": [
       "GradientBoostingClassifier()"
      ]
     },
     "execution_count": 43,
     "metadata": {},
     "output_type": "execute_result"
    }
   ],
   "source": [
    "lr = LogisticRegression()\n",
    "lr.fit(X_train,y_train)\n",
    "\n",
    "svm = svm.SVC()\n",
    "svm.fit(X_train,y_train)\n",
    "\n",
    "knn=KNeighborsClassifier()\n",
    "knn.fit(X_train,y_train)\n",
    "\n",
    "dt=DecisionTreeClassifier()\n",
    "dt.fit(X_train,y_train)\n",
    "\n",
    "rf=RandomForestClassifier()\n",
    "rf.fit(X_train,y_train)\n",
    "\n",
    "gb=GradientBoostingClassifier()\n",
    "gb.fit(X_train,y_train)"
   ]
  },
  {
   "cell_type": "markdown",
   "id": "41b4281a",
   "metadata": {},
   "source": [
    "## Testing on Test data"
   ]
  },
  {
   "cell_type": "code",
   "execution_count": 44,
   "id": "ae668d66",
   "metadata": {},
   "outputs": [],
   "source": [
    "y_pred1 = lr.predict(X_test)\n",
    "y_pred2 = svm.predict(X_test)\n",
    "y_pred3 = knn.predict(X_test)\n",
    "y_pred4 = dt.predict(X_test)\n",
    "y_pred5 = rf.predict(X_test)\n",
    "y_pred6 = gb.predict(X_test)"
   ]
  },
  {
   "cell_type": "markdown",
   "id": "425d4eb5",
   "metadata": {},
   "source": [
    "## Evaluating Models"
   ]
  },
  {
   "cell_type": "code",
   "execution_count": 45,
   "id": "c266c163",
   "metadata": {},
   "outputs": [],
   "source": [
    "from sklearn.metrics import *"
   ]
  },
  {
   "cell_type": "markdown",
   "id": "0ad6b06a",
   "metadata": {},
   "source": [
    "### Logistic Regression"
   ]
  },
  {
   "cell_type": "code",
   "execution_count": 46,
   "id": "aa56f4db",
   "metadata": {},
   "outputs": [
    {
     "name": "stdout",
     "output_type": "stream",
     "text": [
      "Confusion Matrix:\n",
      "[[25  9]\n",
      " [ 4 22]]\n",
      "Accuracy: 0.7833333333333333\n",
      "Precision: 0.7096774193548387\n",
      "Recall: 0.8461538461538461\n",
      "F1-Score: 0.7719298245614036\n",
      "ROC AUC: 0.7907239819004526\n"
     ]
    }
   ],
   "source": [
    "# Confusion Matrix \n",
    "cm1 = confusion_matrix(y_test, y_pred1) \n",
    "# Accuracy \n",
    "accuracy1 = accuracy_score(y_test, y_pred1) \n",
    "# Precision \n",
    "precision1 = precision_score(y_test, y_pred1) \n",
    "# Recall \n",
    "recall1 = recall_score(y_test, y_pred1) \n",
    "# F1-Score \n",
    "f11 = f1_score(y_test, y_pred1) \n",
    "# ROC Curve and AUC \n",
    "fpr, tpr, thresholds = roc_curve(y_test, y_pred1) \n",
    "roc_auc1 = auc(fpr, tpr) \n",
    "  \n",
    "print(\"Confusion Matrix:\") \n",
    "print(cm1) \n",
    "print(\"Accuracy:\", accuracy1) \n",
    "print(\"Precision:\", precision1) \n",
    "print(\"Recall:\", recall1) \n",
    "print(\"F1-Score:\", f11) \n",
    "print(\"ROC AUC:\", roc_auc1) \n"
   ]
  },
  {
   "cell_type": "markdown",
   "id": "15154a18",
   "metadata": {},
   "source": [
    "### SVM"
   ]
  },
  {
   "cell_type": "code",
   "execution_count": 47,
   "id": "6dfab18f",
   "metadata": {},
   "outputs": [
    {
     "name": "stdout",
     "output_type": "stream",
     "text": [
      "Confusion Matrix:\n",
      "[[23 11]\n",
      " [ 5 21]]\n",
      "Accuracy: 0.7333333333333333\n",
      "Precision: 0.65625\n",
      "Recall: 0.8076923076923077\n",
      "F1-Score: 0.7241379310344829\n",
      "ROC AUC: 0.7420814479638009\n"
     ]
    }
   ],
   "source": [
    "# Confusion Matrix \n",
    "cm2 = confusion_matrix(y_test, y_pred2) \n",
    "# Accuracy \n",
    "accuracy2 = accuracy_score(y_test, y_pred2) \n",
    "# Precision \n",
    "precision2 = precision_score(y_test, y_pred2) \n",
    "# Recall \n",
    "recall2 = recall_score(y_test, y_pred2) \n",
    "# F1-Score \n",
    "f12 = f1_score(y_test, y_pred2) \n",
    "# ROC Curve and AUC \n",
    "fpr, tpr, thresholds = roc_curve(y_test, y_pred2) \n",
    "roc_auc2 = auc(fpr, tpr) \n",
    "  \n",
    "print(\"Confusion Matrix:\") \n",
    "print(cm2) \n",
    "print(\"Accuracy:\", accuracy2) \n",
    "print(\"Precision:\", precision2) \n",
    "print(\"Recall:\", recall2) \n",
    "print(\"F1-Score:\", f12) \n",
    "print(\"ROC AUC:\", roc_auc2) "
   ]
  },
  {
   "cell_type": "markdown",
   "id": "aa8efe7f",
   "metadata": {},
   "source": [
    "### KNN"
   ]
  },
  {
   "cell_type": "code",
   "execution_count": 48,
   "id": "554a96e0",
   "metadata": {},
   "outputs": [
    {
     "name": "stdout",
     "output_type": "stream",
     "text": [
      "Confusion Matrix:\n",
      "[[20 14]\n",
      " [ 7 19]]\n",
      "Accuracy: 0.65\n",
      "Precision: 0.5757575757575758\n",
      "Recall: 0.7307692307692307\n",
      "F1-Score: 0.6440677966101696\n",
      "ROC AUC: 0.659502262443439\n"
     ]
    }
   ],
   "source": [
    "# Confusion Matrix \n",
    "cm3 = confusion_matrix(y_test, y_pred3) \n",
    "# Accuracy \n",
    "accuracy3 = accuracy_score(y_test, y_pred3) \n",
    "# Precision \n",
    "precision3 = precision_score(y_test, y_pred3) \n",
    "# Recall \n",
    "recall3 = recall_score(y_test, y_pred3) \n",
    "# F1-Score \n",
    "f13 = f1_score(y_test, y_pred3) \n",
    "# ROC Curve and AUC \n",
    "fpr, tpr, thresholds = roc_curve(y_test, y_pred3) \n",
    "roc_auc3 = auc(fpr, tpr) \n",
    "  \n",
    "print(\"Confusion Matrix:\") \n",
    "print(cm3) \n",
    "print(\"Accuracy:\", accuracy3) \n",
    "print(\"Precision:\", precision3) \n",
    "print(\"Recall:\", recall3) \n",
    "print(\"F1-Score:\", f13) \n",
    "print(\"ROC AUC:\", roc_auc3) "
   ]
  },
  {
   "cell_type": "markdown",
   "id": "77865e08",
   "metadata": {},
   "source": [
    "### DT"
   ]
  },
  {
   "cell_type": "code",
   "execution_count": 49,
   "id": "f9d8fe87",
   "metadata": {},
   "outputs": [
    {
     "name": "stdout",
     "output_type": "stream",
     "text": [
      "Confusion Matrix:\n",
      "[[26  8]\n",
      " [ 4 22]]\n",
      "Accuracy: 0.8\n",
      "Precision: 0.7333333333333333\n",
      "Recall: 0.8461538461538461\n",
      "F1-Score: 0.7857142857142856\n",
      "ROC AUC: 0.8054298642533937\n"
     ]
    }
   ],
   "source": [
    "# Confusion Matrix \n",
    "cm4 = confusion_matrix(y_test, y_pred4) \n",
    "# Accuracy \n",
    "accuracy4 = accuracy_score(y_test, y_pred4) \n",
    "# Precision \n",
    "precision4 = precision_score(y_test, y_pred4) \n",
    "# Recall \n",
    "recall4 = recall_score(y_test, y_pred4) \n",
    "# F1-Score \n",
    "f14 = f1_score(y_test, y_pred4) \n",
    "# ROC Curve and AUC \n",
    "fpr, tpr, thresholds = roc_curve(y_test, y_pred4) \n",
    "roc_auc4 = auc(fpr, tpr) \n",
    "  \n",
    "print(\"Confusion Matrix:\") \n",
    "print(cm4) \n",
    "print(\"Accuracy:\", accuracy4) \n",
    "print(\"Precision:\", precision4) \n",
    "print(\"Recall:\", recall4) \n",
    "print(\"F1-Score:\", f14) \n",
    "print(\"ROC AUC:\", roc_auc4) "
   ]
  },
  {
   "cell_type": "markdown",
   "id": "b4379367",
   "metadata": {},
   "source": [
    "### RF"
   ]
  },
  {
   "cell_type": "code",
   "execution_count": 50,
   "id": "526a997e",
   "metadata": {},
   "outputs": [
    {
     "name": "stdout",
     "output_type": "stream",
     "text": [
      "Confusion Matrix:\n",
      "[[25  9]\n",
      " [ 3 23]]\n",
      "Accuracy: 0.8\n",
      "Precision: 0.71875\n",
      "Recall: 0.8846153846153846\n",
      "F1-Score: 0.7931034482758621\n",
      "ROC AUC: 0.8099547511312218\n"
     ]
    }
   ],
   "source": [
    "# Confusion Matrix \n",
    "cm5 = confusion_matrix(y_test, y_pred5) \n",
    "# Accuracy \n",
    "accuracy5 = accuracy_score(y_test, y_pred5) \n",
    "# Precision \n",
    "precision5 = precision_score(y_test, y_pred5) \n",
    "# Recall \n",
    "recall5 = recall_score(y_test, y_pred5) \n",
    "# F1-Score \n",
    "f15 = f1_score(y_test, y_pred5) \n",
    "# ROC Curve and AUC \n",
    "fpr, tpr, thresholds = roc_curve(y_test, y_pred5) \n",
    "roc_auc5 = auc(fpr, tpr) \n",
    "  \n",
    "print(\"Confusion Matrix:\") \n",
    "print(cm5) \n",
    "print(\"Accuracy:\", accuracy5) \n",
    "print(\"Precision:\", precision5) \n",
    "print(\"Recall:\", recall5) \n",
    "print(\"F1-Score:\", f15) \n",
    "print(\"ROC AUC:\", roc_auc5) "
   ]
  },
  {
   "cell_type": "markdown",
   "id": "8828121b",
   "metadata": {},
   "source": [
    "### GB"
   ]
  },
  {
   "cell_type": "code",
   "execution_count": 51,
   "id": "3c1cb745",
   "metadata": {},
   "outputs": [
    {
     "name": "stdout",
     "output_type": "stream",
     "text": [
      "Confusion Matrix:\n",
      "[[25  9]\n",
      " [ 2 24]]\n",
      "Accuracy: 0.8166666666666667\n",
      "Precision: 0.7272727272727273\n",
      "Recall: 0.9230769230769231\n",
      "F1-Score: 0.8135593220338984\n",
      "ROC AUC: 0.829185520361991\n"
     ]
    }
   ],
   "source": [
    "# Confusion Matrix \n",
    "cm6 = confusion_matrix(y_test, y_pred6) \n",
    "# Accuracy \n",
    "accuracy6 = accuracy_score(y_test, y_pred6) \n",
    "# Precision \n",
    "precision6 = precision_score(y_test, y_pred6) \n",
    "# Recall \n",
    "recall6 = recall_score(y_test, y_pred6) \n",
    "# F1-Score \n",
    "f16 = f1_score(y_test, y_pred6) \n",
    "# ROC Curve and AUC \n",
    "fpr, tpr, thresholds = roc_curve(y_test, y_pred6) \n",
    "roc_auc6 = auc(fpr, tpr) \n",
    "  \n",
    "print(\"Confusion Matrix:\") \n",
    "print(cm6) \n",
    "print(\"Accuracy:\", accuracy6) \n",
    "print(\"Precision:\", precision6) \n",
    "print(\"Recall:\", recall6) \n",
    "print(\"F1-Score:\", f16) \n",
    "print(\"ROC AUC:\", roc_auc6) "
   ]
  },
  {
   "cell_type": "markdown",
   "id": "ca18dd97",
   "metadata": {},
   "source": [
    "## Metrics"
   ]
  },
  {
   "cell_type": "code",
   "execution_count": 52,
   "id": "6d685411",
   "metadata": {},
   "outputs": [
    {
     "data": {
      "image/png": "[encoded data removed]",
      "text/plain": [
       "<Figure size 1500x800 with 1 Axes>"
      ]
     },
     "metadata": {},
     "output_type": "display_data"
    }
   ],
   "source": [
    "# import numpy as np\n",
    "import matplotlib.pyplot as plt\n",
    "import numpy as np\n",
    "\n",
    "# Data\n",
    "models = ['logistic', 'SVM', 'KNN', 'DT', 'RF', 'GB']\n",
    "metrics = {\n",
    "    'Accuracy': [accuracy1,accuracy2,accuracy3,accuracy4,accuracy5,accuracy6],\n",
    "    'Precision': [precision1, precision2, precision3, precision4, precision5, precision6],\n",
    "    'Recall': [recall1, recall2, recall3, recall4, recall5, recall6],\n",
    "    'F1-score': [f11, f12, f13, f14, f15, f16],\n",
    "    'ROC': [roc_auc1, roc_auc2, roc_auc3, roc_auc4, roc_auc5, roc_auc6]\n",
    "}\n",
    "\n",
    "# Set the width of each bar and positions of the bars\n",
    "width = 0.15\n",
    "x = np.arange(len(models))\n",
    "\n",
    "# Create figure and axis with larger size\n",
    "plt.figure(figsize=(15, 8))\n",
    "\n",
    "# Create bars for each metric\n",
    "plt.bar(x - 2*width, metrics['Accuracy'], width, label='Accuracy', color='blue')\n",
    "plt.bar(x - width, metrics['Precision'], width, label='Precision', color='cyan')\n",
    "plt.bar(x, metrics['Recall'], width, label='Recall', color='yellow')\n",
    "plt.bar(x + width, metrics['F1-score'], width, label='F1-score', color='red')\n",
    "plt.bar(x + 2*width, metrics['ROC'], width, label='ROC', color='purple')\n",
    "\n",
    "# Customize the plot\n",
    "plt.xlabel('Models', fontsize=12)\n",
    "plt.ylabel('Scores', fontsize=12)\n",
    "plt.title('Model Performance Comparison', fontsize=14, pad=20)\n",
    "plt.xticks(x, models, rotation=45)\n",
    "plt.legend(loc='lower left', fontsize=12,\n",
    "          mode=\"expand\", ncol=5)\n",
    "# Set y-axis limits to focus on the range of values\n",
    "plt.ylim(0.6, 1.0)\n",
    "\n",
    "# Show the plot\n",
    "plt.show()\n"
   ]
  },
  {
   "cell_type": "code",
   "execution_count": 53,
   "id": "5d914dac",
   "metadata": {},
   "outputs": [
    {
     "data": {
      "text/html": [
       "<div>\n",
       "<style scoped>\n",
       "    .dataframe tbody tr th:only-of-type {\n",
       "        vertical-align: middle;\n",
       "    }\n",
       "\n",
       "    .dataframe tbody tr th {\n",
       "        vertical-align: top;\n",
       "    }\n",
       "\n",
       "    .dataframe thead th {\n",
       "        text-align: right;\n",
       "    }\n",
       "</style>\n",
       "<table border=\"1\" class=\"dataframe\">\n",
       "  <thead>\n",
       "    <tr style=\"text-align: right;\">\n",
       "      <th></th>\n",
       "      <th>Accuracy</th>\n",
       "      <th>Precision</th>\n",
       "      <th>Recall</th>\n",
       "      <th>F1-score</th>\n",
       "      <th>ROC</th>\n",
       "    </tr>\n",
       "  </thead>\n",
       "  <tbody>\n",
       "    <tr>\n",
       "      <th>lr</th>\n",
       "      <td>0.783333</td>\n",
       "      <td>0.709677</td>\n",
       "      <td>0.846154</td>\n",
       "      <td>0.771930</td>\n",
       "      <td>0.790724</td>\n",
       "    </tr>\n",
       "    <tr>\n",
       "      <th>svm</th>\n",
       "      <td>0.733333</td>\n",
       "      <td>0.656250</td>\n",
       "      <td>0.807692</td>\n",
       "      <td>0.724138</td>\n",
       "      <td>0.742081</td>\n",
       "    </tr>\n",
       "    <tr>\n",
       "      <th>knn</th>\n",
       "      <td>0.650000</td>\n",
       "      <td>0.575758</td>\n",
       "      <td>0.730769</td>\n",
       "      <td>0.644068</td>\n",
       "      <td>0.659502</td>\n",
       "    </tr>\n",
       "    <tr>\n",
       "      <th>dt</th>\n",
       "      <td>0.800000</td>\n",
       "      <td>0.733333</td>\n",
       "      <td>0.846154</td>\n",
       "      <td>0.785714</td>\n",
       "      <td>0.805430</td>\n",
       "    </tr>\n",
       "    <tr>\n",
       "      <th>rf</th>\n",
       "      <td>0.800000</td>\n",
       "      <td>0.718750</td>\n",
       "      <td>0.884615</td>\n",
       "      <td>0.793103</td>\n",
       "      <td>0.809955</td>\n",
       "    </tr>\n",
       "    <tr>\n",
       "      <th>gb</th>\n",
       "      <td>0.816667</td>\n",
       "      <td>0.727273</td>\n",
       "      <td>0.923077</td>\n",
       "      <td>0.813559</td>\n",
       "      <td>0.829186</td>\n",
       "    </tr>\n",
       "  </tbody>\n",
       "</table>\n",
       "</div>"
      ],
      "text/plain": [
       "     Accuracy  Precision    Recall  F1-score       ROC\n",
       "lr   0.783333   0.709677  0.846154  0.771930  0.790724\n",
       "svm  0.733333   0.656250  0.807692  0.724138  0.742081\n",
       "knn  0.650000   0.575758  0.730769  0.644068  0.659502\n",
       "dt   0.800000   0.733333  0.846154  0.785714  0.805430\n",
       "rf   0.800000   0.718750  0.884615  0.793103  0.809955\n",
       "gb   0.816667   0.727273  0.923077  0.813559  0.829186"
      ]
     },
     "execution_count": 53,
     "metadata": {},
     "output_type": "execute_result"
    }
   ],
   "source": [
    "metrics_df=pd.DataFrame(metrics,index=['lr','svm','knn','dt','rf','gb'])\n",
    "metrics_df"
   ]
  },
  {
   "cell_type": "markdown",
   "id": "7fec5559",
   "metadata": {},
   "source": [
    "## Cross Validation of Models"
   ]
  },
  {
   "cell_type": "code",
   "execution_count": 54,
   "id": "bcbd4da2",
   "metadata": {},
   "outputs": [
    {
     "name": "stdout",
     "output_type": "stream",
     "text": [
      "Mean cross Validation Scores:\n",
      "lr     0.837966\n",
      "svm    0.814463\n",
      "knn    0.743333\n",
      "dt     0.807740\n",
      "rf     0.878531\n",
      "gb     0.868475\n",
      "Name: mean_cross_val_score, dtype: float64\n"
     ]
    },
    {
     "data": {
      "text/html": [
       "<div>\n",
       "<style scoped>\n",
       "    .dataframe tbody tr th:only-of-type {\n",
       "        vertical-align: middle;\n",
       "    }\n",
       "\n",
       "    .dataframe tbody tr th {\n",
       "        vertical-align: top;\n",
       "    }\n",
       "\n",
       "    .dataframe thead th {\n",
       "        text-align: right;\n",
       "    }\n",
       "</style>\n",
       "<table border=\"1\" class=\"dataframe\">\n",
       "  <thead>\n",
       "    <tr style=\"text-align: right;\">\n",
       "      <th></th>\n",
       "      <th>Accuracy</th>\n",
       "      <th>Precision</th>\n",
       "      <th>Recall</th>\n",
       "      <th>F1-score</th>\n",
       "      <th>ROC</th>\n",
       "      <th>mean_cross_val_score</th>\n",
       "    </tr>\n",
       "  </thead>\n",
       "  <tbody>\n",
       "    <tr>\n",
       "      <th>lr</th>\n",
       "      <td>0.783333</td>\n",
       "      <td>0.709677</td>\n",
       "      <td>0.846154</td>\n",
       "      <td>0.771930</td>\n",
       "      <td>0.790724</td>\n",
       "      <td>0.837966</td>\n",
       "    </tr>\n",
       "    <tr>\n",
       "      <th>svm</th>\n",
       "      <td>0.733333</td>\n",
       "      <td>0.656250</td>\n",
       "      <td>0.807692</td>\n",
       "      <td>0.724138</td>\n",
       "      <td>0.742081</td>\n",
       "      <td>0.814463</td>\n",
       "    </tr>\n",
       "    <tr>\n",
       "      <th>knn</th>\n",
       "      <td>0.650000</td>\n",
       "      <td>0.575758</td>\n",
       "      <td>0.730769</td>\n",
       "      <td>0.644068</td>\n",
       "      <td>0.659502</td>\n",
       "      <td>0.743333</td>\n",
       "    </tr>\n",
       "    <tr>\n",
       "      <th>dt</th>\n",
       "      <td>0.800000</td>\n",
       "      <td>0.733333</td>\n",
       "      <td>0.846154</td>\n",
       "      <td>0.785714</td>\n",
       "      <td>0.805430</td>\n",
       "      <td>0.807740</td>\n",
       "    </tr>\n",
       "    <tr>\n",
       "      <th>rf</th>\n",
       "      <td>0.800000</td>\n",
       "      <td>0.718750</td>\n",
       "      <td>0.884615</td>\n",
       "      <td>0.793103</td>\n",
       "      <td>0.809955</td>\n",
       "      <td>0.878531</td>\n",
       "    </tr>\n",
       "    <tr>\n",
       "      <th>gb</th>\n",
       "      <td>0.816667</td>\n",
       "      <td>0.727273</td>\n",
       "      <td>0.923077</td>\n",
       "      <td>0.813559</td>\n",
       "      <td>0.829186</td>\n",
       "      <td>0.868475</td>\n",
       "    </tr>\n",
       "  </tbody>\n",
       "</table>\n",
       "</div>"
      ],
      "text/plain": [
       "     Accuracy  Precision    Recall  F1-score       ROC  mean_cross_val_score\n",
       "lr   0.783333   0.709677  0.846154  0.771930  0.790724              0.837966\n",
       "svm  0.733333   0.656250  0.807692  0.724138  0.742081              0.814463\n",
       "knn  0.650000   0.575758  0.730769  0.644068  0.659502              0.743333\n",
       "dt   0.800000   0.733333  0.846154  0.785714  0.805430              0.807740\n",
       "rf   0.800000   0.718750  0.884615  0.793103  0.809955              0.878531\n",
       "gb   0.816667   0.727273  0.923077  0.813559  0.829186              0.868475"
      ]
     },
     "execution_count": 54,
     "metadata": {},
     "output_type": "execute_result"
    }
   ],
   "source": [
    "from sklearn.model_selection import cross_val_score\n",
    "from sklearn.linear_model import LogisticRegression\n",
    "from sklearn.neighbors import KNeighborsClassifier\n",
    "from sklearn import svm\n",
    "from sklearn.tree import DecisionTreeClassifier\n",
    "from sklearn.ensemble import RandomForestClassifier\n",
    "from sklearn.ensemble import GradientBoostingClassifier\n",
    "\n",
    "# Assuming X is your feature matrix and y is your target variable\n",
    "model1 = LogisticRegression()\n",
    "scores1 = cross_val_score(model1, X, y, cv=5)  # 5-fold cross-validation\n",
    "\n",
    "model2 = svm.SVC()\n",
    "scores2 = cross_val_score(model2, X, y, cv=5)  # 5-fold cross-validation\n",
    "\n",
    "model3 = KNeighborsClassifier()\n",
    "scores3 = cross_val_score(model3, X, y, cv=5)  # 5-fold cross-validation\n",
    "\n",
    "model4 = DecisionTreeClassifier()\n",
    "scores4 = cross_val_score(model4, X, y, cv=5)  # 5-fold cross-validation\n",
    "\n",
    "model5 = RandomForestClassifier()\n",
    "scores5 = cross_val_score(model5, X, y, cv=5)  # 5-fold cross-validation\n",
    "\n",
    "model6 = GradientBoostingClassifier()\n",
    "scores6 = cross_val_score(model6, X, y, cv=5)  # 5-fold cross-validation\n",
    "\n",
    "scores_mean=np.array([scores1.mean(),scores2.mean(),scores3.mean(),scores4.mean(),scores5.mean(),scores6.mean()])\n",
    "index_labels=index=['lr','svm','knn','dt','rf','gb']\n",
    "scores_mean_series=pd.Series(scores_mean, index=index_labels,name='mean_cross_val_score')\n",
    "new_metrics_df = pd.concat([pd.DataFrame(metrics_df),scores_mean_series ], axis=1)\n",
    "\n",
    "print(\"Mean cross Validation Scores:\")\n",
    "print(scores_mean_series)\n",
    "new_metrics_df"
   ]
  },
  {
   "cell_type": "markdown",
   "id": "7d2a3696",
   "metadata": {},
   "source": [
    "### Based on all, gb classifier is selected"
   ]
  },
  {
   "cell_type": "markdown",
   "id": "7e80b920",
   "metadata": {},
   "source": [
    "### Model Results"
   ]
  },
  {
   "cell_type": "code",
   "execution_count": 55,
   "id": "bf2d890a",
   "metadata": {},
   "outputs": [
    {
     "data": {
      "image/png": "[encoded data removed]",
      "text/plain": [
       "<Figure size 640x480 with 2 Axes>"
      ]
     },
     "metadata": {},
     "output_type": "display_data"
    }
   ],
   "source": [
    "import matplotlib.pyplot as plt\n",
    "import seaborn as sns\n",
    "# Confusion Matrix \n",
    "y_pred=gb.predict(X)\n",
    "cm = confusion_matrix(y, y_pred) \n",
    "# Create a heatmap visualization\n",
    "sns.heatmap(cm, annot=True, cmap='Blues', fmt='d')\n",
    "plt.xlabel('Predicted')\n",
    "plt.ylabel('Actual')\n",
    "plt.show()\n"
   ]
  },
  {
   "cell_type": "markdown",
   "id": "5e5d7ec9",
   "metadata": {},
   "source": [
    "### Prediction on New data"
   ]
  },
  {
   "cell_type": "code",
   "execution_count": 56,
   "id": "6d6e3f6c",
   "metadata": {},
   "outputs": [],
   "source": [
    "new_data = pd.DataFrame({\n",
    "    'gender':0,\n",
    "    'ssc_percent':47.0,\n",
    "    'ssc_board':0,\n",
    "    'hsc_percent':85.0,\n",
    "    'hsc_board':0,\n",
    "    'hsc_specialization':1,\n",
    "    'degree_percent':77.0,\n",
    "    'degree_type':2,\n",
    "    'work_experience':0,\n",
    "    'employability_test_percent':55.0\n",
    "},index=[0])"
   ]
  },
  {
   "cell_type": "code",
   "execution_count": 57,
   "id": "201061a1",
   "metadata": {},
   "outputs": [],
   "source": [
    "gb_model=GradientBoostingClassifier()\n",
    "#lr= LogisticRegression()\n",
    "#dt=DecisionTreeClassifier()\n",
    "#gb.fit(X,y)\n",
    "#lr.fit(X,y)\n",
    "#gb.fit(X,y)"
   ]
  },
  {
   "cell_type": "code",
   "execution_count": 58,
   "id": "6e8c4890",
   "metadata": {},
   "outputs": [
    {
     "name": "stdout",
     "output_type": "stream",
     "text": [
      "Cross-validation scores on training set: [0.83333333 0.80851064 0.89361702 0.85106383 0.89361702]\n",
      "Average cross-validation score on training set: 0.8560283687943262\n",
      "Test set accuracy: 0.8166666666666667\n",
      "Placed\n",
      "You will be placed with probability of 1.00\n"
     ]
    }
   ],
   "source": [
    "# Initial train-test split\n",
    "X_train, X_test, y_train, y_test = train_test_split(X, y, test_size=0.2, random_state=42)\n",
    "\n",
    "# Use cross-validation on the training set only for tuning\n",
    "cv_scores = cross_val_score(gb_model, X_train, y_train, cv=5, scoring='accuracy')\n",
    "print(\"Cross-validation scores on training set:\", cv_scores)\n",
    "print(\"Average cross-validation score on training set:\", cv_scores.mean())\n",
    "\n",
    "# Train final model on the entire training set and evaluate on test set\n",
    "gb_model.fit(X_train, y_train)\n",
    "y_pred = gb_model.predict(X_test)\n",
    "test_accuracy = accuracy_score(y_test, y_pred)\n",
    "print(\"Test set accuracy:\", test_accuracy)\n",
    "\n",
    "#p=lr.predict(new_data)\n",
    "#prob=lr.predict_proba(new_data)\n",
    "p=gb_model.predict(new_data)\n",
    "prob=gb_model.predict_proba(new_data)\n",
    "#p=dt.predict(new_data)\n",
    "#prob=dt.predict_proba(new_data)\n",
    "if p==1:\n",
    "    print('Placed')\n",
    "    print(f\"You will be placed with probability of {prob[0][1]:.2f}\")\n",
    "else:\n",
    "    print(\"Not-placed\")"
   ]
  },
  {
   "cell_type": "code",
   "execution_count": 59,
   "id": "e571e90a",
   "metadata": {},
   "outputs": [
    {
     "data": {
      "text/plain": [
       "array([[0.00379899, 0.99620101]])"
      ]
     },
     "execution_count": 59,
     "metadata": {},
     "output_type": "execute_result"
    }
   ],
   "source": [
    "prob"
   ]
  },
  {
   "cell_type": "markdown",
   "id": "a905bae9",
   "metadata": {},
   "source": [
    "### Save Model using Joblib"
   ]
  },
  {
   "cell_type": "code",
   "execution_count": 60,
   "id": "c0b498c8",
   "metadata": {},
   "outputs": [],
   "source": [
    "import joblib"
   ]
  },
  {
   "cell_type": "code",
   "execution_count": 61,
   "id": "862f8944",
   "metadata": {},
   "outputs": [
    {
     "data": {
      "text/plain": [
       "['campus_placement_prediction_model']"
      ]
     },
     "execution_count": 61,
     "metadata": {},
     "output_type": "execute_result"
    }
   ],
   "source": [
    "joblib.dump(gb_model,'campus_placement_prediction_model')"
   ]
  },
  {
   "cell_type": "code",
   "execution_count": 62,
   "id": "3c97537d",
   "metadata": {},
   "outputs": [],
   "source": [
    "model = joblib.load('campus_placement_prediction_model')"
   ]
  },
  {
   "cell_type": "code",
   "execution_count": 63,
   "id": "1a9e65f9",
   "metadata": {},
   "outputs": [
    {
     "data": {
      "text/plain": [
       "array([1], dtype=int64)"
      ]
     },
     "execution_count": 63,
     "metadata": {},
     "output_type": "execute_result"
    }
   ],
   "source": [
    "model.predict(new_data)"
   ]
  },
  {
   "cell_type": "markdown",
   "id": "f2f64f13",
   "metadata": {},
   "source": [
    "## GUI"
   ]
  },
  {
   "cell_type": "code",
   "execution_count": 64,
   "id": "e98785d0",
   "metadata": {},
   "outputs": [],
   "source": [
    "from tkinter import *\n",
    "from tkinter import messagebox\n",
    "import joblib\n",
    "import numpy as np\n",
    "from sklearn import *\n",
    "import tkinter.font as font\n",
    "import pandas as pd"
   ]
  },
  {
   "cell_type": "code",
   "execution_count": null,
   "id": "db63ce85",
   "metadata": {},
   "outputs": [],
   "source": []
  },
  {
   "cell_type": "code",
   "execution_count": 67,
   "id": "ae4de09c",
   "metadata": {
    "scrolled": true
   },
   "outputs": [],
   "source": [
    "def show_entry_fields():\n",
    "    try:\n",
    "        text = clicked.get()\n",
    "        if text == \"Male\":\n",
    "            p1=1\n",
    "            print(p1)\n",
    "        else:\n",
    "            p1=0\n",
    "            print(p1)\n",
    "        p2=float(e2.get())\n",
    "        if(p2<0 or p2>100):\n",
    "            show_error(\"Enter ssc percent between 0 to 100\")\n",
    "        text = clicked1.get()\n",
    "        if text == \"Central\":\n",
    "            p3=1\n",
    "            print(p3)\n",
    "        else:\n",
    "            p3=0\n",
    "            print(p3)\n",
    "        p4=float(e4.get())\n",
    "        if(p4<0 or p4>100):\n",
    "            show_error(\"Enter hsc percent between 0 to 100\")\n",
    "        text = clicked6.get()\n",
    "        if text == \"Central\":\n",
    "            p5=1\n",
    "            print(p5)\n",
    "        else:\n",
    "            p5=0\n",
    "            print(p5)\n",
    "        text = clicked2.get()\n",
    "        if text == \"Science\":\n",
    "            p6=2\n",
    "            print(p6)\n",
    "        elif text == \"Commerce\":\n",
    "            p6=1\n",
    "            print(p6)\n",
    "        else:\n",
    "            p6=0\n",
    "            print(p6)\n",
    "        p7=float(e7.get())\n",
    "        if(p7<0 or p7>100):\n",
    "            show_error(\"Enter degree percent between 0 to 100\")\n",
    "        text = clicked3.get()\n",
    "        if text == \"Sci&Tech\":\n",
    "            p8=2\n",
    "            print(p8)\n",
    "        elif text==\"Comm&Mgmt\":\n",
    "            p8=1\n",
    "            print(p8)\n",
    "        else:\n",
    "            p8=0\n",
    "            print(p8)\n",
    "        text = clicked4.get()\n",
    "        if text == \"Yes\":\n",
    "            p9=1\n",
    "            print(p9)\n",
    "        else:\n",
    "            p9=0\n",
    "            print(p9)\n",
    "        p10=float(e10.get())\n",
    "        if(p10<0 or p10>100):\n",
    "            show_error(\"Enter employability test percent between 0 to 100\")\n",
    "        model = joblib.load('campus_placement_prediction_model')\n",
    "        new_data = pd.DataFrame({\n",
    "        'gender':p1,\n",
    "        'ssc_percent':p2,\n",
    "        'ssc_board':p3,\n",
    "        'hsc_percent':p4,\n",
    "        'hsc_board':p5,\n",
    "        'hsc_specialization':p6,\n",
    "        'degree_percent':p7,\n",
    "        'degree_type':p8,\n",
    "        'work_experience':p9,\n",
    "        'employability_test_percent':p10\n",
    "        },index=[0])\n",
    "        result=model.predict(new_data)\n",
    "        result1=model.predict_proba(new_data)\n",
    "    \n",
    "        if result[0] == 0:\n",
    "            l.configure(text=\"Student Can't be Placed\")\n",
    "        else:\n",
    "            txt=\"Student Will be Placed With Probability of \"+str(round(result1[0][1],2)*100)+\" Percent\"\n",
    "            l.configure(text=txt)\n",
    "    except ValueError as e:\n",
    "        # Handle ValueError (e.g., invalid input for numerical fields)\n",
    "        print(\"Value error:\", e)\n",
    "        show_error(\"Use valid input\")\n",
    "    \n",
    "def show_error(message):\n",
    "    messagebox.showerror(\"Error:\", message)\n",
    "def clear_text():\n",
    "    l.configure(text=\"\")\n",
    "    clicked.set(\"\")\n",
    "    e2.delete(0,END)\n",
    "    clicked1.set(\"\")\n",
    "    e4.delete(0,END)\n",
    "    clicked2.set(\"\")\n",
    "    clicked3.set(\"\")\n",
    "    e7.delete(0,END)\n",
    "    clicked4.set(\"\")\n",
    "    clicked6.set(\"\")\n",
    "    e10.delete(0,END)\n",
    "    \n",
    "master = Tk()\n",
    "master.title(\"Campus Placement Prediction System\")\n",
    "\n",
    "\n",
    "label = Label(master, text = \"Campus Placement Prediction System\"\n",
    "                          , bg = \"green\", fg = \"white\",font=(\"Arial\", 20)) \\\n",
    "                               .grid(row=0,columnspan=2)\n",
    "l = Label(master, text=\"\", font=(\"Arial\", 15))\n",
    "l.grid(row=12)\n",
    "\n",
    "\n",
    "Label(master, text=\"Gender\",font=(\"Arial\", 15)).grid(row=1)\n",
    "Label(master, text=\"Secondary Education percentage- 10th Grade\",font=(\"Arial\", 15)).grid(row=2)\n",
    "Label(master, text=\"Board of Education\",font=(\"Arial\", 15)).grid(row=3)\n",
    "Label(master, text=\"Higher Secondary Education percentage- 12th Grade\",font=(\"Arial\", 15)).grid(row=4)\n",
    "Label(master, text=\"Board of Education\",font=(\"Arial\", 15)).grid(row=5)\n",
    "Label(master, text=\"Specialization in Higher Secondary Education\",font=(\"Arial\", 15)).grid(row=6)\n",
    "Label(master, text=\"Degree Percentage\",font=(\"Arial\", 15)).grid(row=7)\n",
    "Label(master, text=\"Under Graduation(Degree type)- Field of degree education\",font=(\"Arial\", 15)).grid(row=8)\n",
    "Label(master, text=\"Work Experience\",font=(\"Arial\", 15)).grid(row=9)\n",
    "Label(master, text=\"Enter test percentage\",font=(\"Arial\", 15)).grid(row=10)\n",
    "clicked = StringVar()\n",
    "options = [\"Male\",\"Female\"]\n",
    "\n",
    "clicked1 = StringVar()\n",
    "options1 = [\"Central\",\"Others\"]\n",
    "\n",
    "clicked2 = StringVar()\n",
    "options2 = [\"Science\",\"Commerce\",\"Arts\"]\n",
    "\n",
    "clicked3 = StringVar()\n",
    "options3 = [\"Sci&Tech\",\"Comm&Mgmt\",\"Others\"]\n",
    "\n",
    "clicked4 = StringVar()\n",
    "options4 = [\"Yes\",\"No\"]\n",
    "\n",
    "clicked6 = StringVar()\n",
    "options6 = [\"Central\",\"Others\"]\n",
    "e1 = OptionMenu(master , clicked , *options )\n",
    "e1.configure(width=14)\n",
    "e2 = Entry(master)\n",
    "e2.configure(width=20)\n",
    "e3 = OptionMenu(master , clicked1 , *options1 )\n",
    "e3.configure(width=14)\n",
    "e4 = Entry(master)\n",
    "e4.configure(width=20)\n",
    "e5 = OptionMenu(master , clicked6 , *options6)\n",
    "e5.configure(width=14)\n",
    "e6 = OptionMenu(master , clicked2 , *options2)\n",
    "e6.configure(width=14)\n",
    "e7 = Entry(master)\n",
    "e7.configure(width=20)\n",
    "e8 = OptionMenu(master , clicked3 , *options3)\n",
    "e8.configure(width=14)\n",
    "e9 = OptionMenu(master , clicked4 , *options4)\n",
    "e9.configure(width=14)\n",
    "e10 = Entry(master)\n",
    "e10.configure(width=20)\n",
    "\n",
    "\n",
    "e1.grid(row=1, column=1)\n",
    "e2.grid(row=2, column=1)\n",
    "e3.grid(row=3, column=1)\n",
    "e4.grid(row=4, column=1)\n",
    "e5.grid(row=5, column=1)\n",
    "e6.grid(row=6, column=1)\n",
    "e7.grid(row=7, column=1)\n",
    "e8.grid(row=8, column=1)\n",
    "e9.grid(row=9, column=1)\n",
    "e10.grid(row=10, column=1)\n",
    "\n",
    "buttonFont = font.Font(family='Helvetica', size=12, weight='bold')\n",
    "Button(master, text='Predict',height= 1, width=8,activebackground='#00ff00',font=buttonFont,bg='black', fg='white',command=show_entry_fields).grid(row=11,column=0,padx=10,pady=50)\n",
    "Button(master, text='Clear',height= 1, width=8,activebackground='#00ff00',font=buttonFont,bg='black', fg='white',command=clear_text).grid(row=11,column=1,padx=10,pady=10)\n",
    "\n",
    "mainloop()"
   ]
  },
  {
   "cell_type": "code",
   "execution_count": null,
   "id": "ca0f4864",
   "metadata": {},
   "outputs": [],
   "source": []
  },
  {
   "cell_type": "code",
   "execution_count": null,
   "id": "d1c67305",
   "metadata": {},
   "outputs": [],
   "source": []
  }
 ],
 "metadata": {
  "kernelspec": {
   "display_name": "Python 3 (ipykernel)",
   "language": "python",
   "name": "python3"
  },
  "language_info": {
   "codemirror_mode": {
    "name": "ipython",
    "version": 3
   },
   "file_extension": ".py",
   "mimetype": "text/x-python",
   "name": "python",
   "nbconvert_exporter": "python",
   "pygments_lexer": "ipython3",
   "version": "3.11.4"
  }
 },
 "nbformat": 4,
 "nbformat_minor": 5
}
